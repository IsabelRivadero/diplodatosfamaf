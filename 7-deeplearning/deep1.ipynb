{
  "nbformat": 4,
  "nbformat_minor": 0,
  "metadata": {
    "kernelspec": {
      "display_name": "Python 3",
      "language": "python",
      "name": "python3"
    },
    "language_info": {
      "codemirror_mode": {
        "name": "ipython",
        "version": 3
      },
      "file_extension": ".py",
      "mimetype": "text/x-python",
      "name": "python",
      "nbconvert_exporter": "python",
      "pygments_lexer": "ipython3",
      "version": "3.7.3"
    },
    "colab": {
      "name": "Copia de 2_data_processing.ipynb",
      "provenance": [],
      "collapsed_sections": [],
      "toc_visible": true
    }
  },
  "cells": [
    {
      "cell_type": "markdown",
      "metadata": {
        "id": "dF6fBS3jMCwn",
        "colab_type": "text"
      },
      "source": [
        "# Procesamiento de datos usando Tensorflow\n",
        "\n",
        "Cuando trabajamos con Tensorflow, existen una gran variedad de formas en las que podemos alimentar los datos a nuestra red neuronal. Esto también tiene que ver con el tipo de datos y los pasos de pre-procesamiento que sean necesarios.\n",
        "\n",
        "En la notebook 1 se utilizó un conjunto de datos de imágenes, esencialmente con variables numéricas. En esta notebook trabajemos con datos categóricos y profundizaremos en cómo trasformar los ejemplos dentro del pipeline de clasificación.\n",
        "\n",
        "Ante un problema de clasificación, lo primero que debemos hacer es **inspeccionar los datos y construir un prototipo de modelo**. La forma más fácil de hacerlo es con notebooks. Sin embargo, a la hora de llevar a cabo experimentos con redes neuronales, un entorno interactivo puede no ser la mejor opción. En primer lugar, explorar los hiperparámetros de una arquitectura neuronal puede llevar varias horas e incluso días, perdiendo todas las ventajas del entorno interactivo. En segundo lugar, no podemos encolar ejecuciones de notebooks para reservar recursos como las GPUs.\n",
        "\n",
        "Por ello, primero realizaremos una exploración inicial de los datos en esta notebook. Una vez que decidamos qué tipo de modelo implementar, pasaremos el modelo a un script de python que cargue los datos, construya el modelo, lo entrene, y finalmente guarde las métricas relevantes.\n",
        "\n",
        "En esta notebook, veremos varios conceptos avanzados de entrenamiento de redes:\n",
        "\n",
        "  * Uso de `tf.data.Dataset` para optimizar la ingesta de datos. \n",
        "  * Uso de capas `tf.layers.Embedding`.\n",
        "  * Combinación de distintos tipos de features en un mismo modelo con múltiples inputs.\n",
        "  * MLFlow para registro de experimentos"
      ]
    },
    {
      "cell_type": "code",
      "metadata": {
        "id": "tntC5azgMCwp",
        "colab_type": "code",
        "colab": {}
      },
      "source": [
        "import os\n",
        "import numpy\n",
        "import pandas\n",
        "import seaborn\n",
        "seaborn.set_style('whitegrid')\n",
        "seaborn.set_palette('colorblind')\n",
        "seaborn.set_context('paper')"
      ],
      "execution_count": 0,
      "outputs": []
    },
    {
      "cell_type": "markdown",
      "metadata": {
        "id": "ffBOB4zcMCws",
        "colab_type": "text"
      },
      "source": [
        "## Cargando los datos\n",
        "\n",
        "Una vez más, estaremos trabajando con el conjunto de datos `petfinder`. Deben descargarlo siguiendo las instrucciones en la [notebook 0](./0_set_up.ipynb), descomprimirlo y luego ajustar la dirección en esta notebook según corresponda. \n",
        "\n",
        "Algunas de las preguntas que respondemos durante esta etapa son:\n",
        "\n",
        " * ¿Qué tipo de tarea tengo que resolver? ¿Clasificación o regresión?\n",
        " * ¿Qué distribución tienen mis etiquetas?\n",
        " * ¿Qué tipo de datos tengo disponible para la clasificación? ¿Cuáles son útiles?\n",
        " * Dadas las características disponibles y el problema que quiero resolver, ¿qué tipo de clasificador o arquitectura conviene utilizar? ¿De qué manera se están representando las causas latentes del problema en el modelo elegido?\n",
        " * Dadas las características disponibles y el modelo elegido, ¿de qué forma representaremos cada una de dichas características?\n",
        " \n",
        "En esta clase utilizaremos redes neuronales como modelos porque es el objetivo de la materia, pero sigue siendo importante qué aspectos podremos capturar con este tipo de modelo, especialmente para tener intuiciones sobre qué hiperparámetros explorar."
      ]
    },
    {
      "cell_type": "code",
      "metadata": {
        "id": "9sjiE7nwMCwu",
        "colab_type": "code",
        "colab": {}
      },
      "source": [
        "DATA_DIRECTORY = '/content/'"
      ],
      "execution_count": 0,
      "outputs": []
    },
    {
      "cell_type": "code",
      "metadata": {
        "id": "M9ocFpIZMCwx",
        "colab_type": "code",
        "colab": {}
      },
      "source": [
        "# Take a sample of data\n",
        "\n",
        "from sklearn.model_selection import train_test_split\n",
        "\n",
        "dataset, dev_dataset = train_test_split(\n",
        "    pandas.read_csv(os.path.join(DATA_DIRECTORY, 'train.csv')), test_size=0.2)"
      ],
      "execution_count": 0,
      "outputs": []
    },
    {
      "cell_type": "code",
      "metadata": {
        "id": "elXz40w3MCw0",
        "colab_type": "code",
        "outputId": "2492fd6c-42cd-4514-c176-0db0ea9e1b59",
        "colab": {
          "base_uri": "https://localhost:8080/",
          "height": 349
        }
      },
      "source": [
        "dataset[:3]"
      ],
      "execution_count": 0,
      "outputs": [
        {
          "output_type": "execute_result",
          "data": {
            "text/html": [
              "<div>\n",
              "<style scoped>\n",
              "    .dataframe tbody tr th:only-of-type {\n",
              "        vertical-align: middle;\n",
              "    }\n",
              "\n",
              "    .dataframe tbody tr th {\n",
              "        vertical-align: top;\n",
              "    }\n",
              "\n",
              "    .dataframe thead th {\n",
              "        text-align: right;\n",
              "    }\n",
              "</style>\n",
              "<table border=\"1\" class=\"dataframe\">\n",
              "  <thead>\n",
              "    <tr style=\"text-align: right;\">\n",
              "      <th></th>\n",
              "      <th>Type</th>\n",
              "      <th>Age</th>\n",
              "      <th>Breed1</th>\n",
              "      <th>Breed2</th>\n",
              "      <th>Gender</th>\n",
              "      <th>Color1</th>\n",
              "      <th>Color2</th>\n",
              "      <th>Color3</th>\n",
              "      <th>MaturitySize</th>\n",
              "      <th>FurLength</th>\n",
              "      <th>Vaccinated</th>\n",
              "      <th>Dewormed</th>\n",
              "      <th>Sterilized</th>\n",
              "      <th>Health</th>\n",
              "      <th>Quantity</th>\n",
              "      <th>Fee</th>\n",
              "      <th>State</th>\n",
              "      <th>Description</th>\n",
              "      <th>AdoptionSpeed</th>\n",
              "      <th>PID</th>\n",
              "    </tr>\n",
              "  </thead>\n",
              "  <tbody>\n",
              "    <tr>\n",
              "      <th>9721</th>\n",
              "      <td>2</td>\n",
              "      <td>7</td>\n",
              "      <td>266</td>\n",
              "      <td>0</td>\n",
              "      <td>1</td>\n",
              "      <td>1</td>\n",
              "      <td>6</td>\n",
              "      <td>0</td>\n",
              "      <td>2</td>\n",
              "      <td>1</td>\n",
              "      <td>1</td>\n",
              "      <td>1</td>\n",
              "      <td>1</td>\n",
              "      <td>1</td>\n",
              "      <td>1</td>\n",
              "      <td>0</td>\n",
              "      <td>41326</td>\n",
              "      <td>Mawi was born this year and he is very active ...</td>\n",
              "      <td>2</td>\n",
              "      <td>13740</td>\n",
              "    </tr>\n",
              "    <tr>\n",
              "      <th>3763</th>\n",
              "      <td>2</td>\n",
              "      <td>15</td>\n",
              "      <td>266</td>\n",
              "      <td>0</td>\n",
              "      <td>1</td>\n",
              "      <td>6</td>\n",
              "      <td>7</td>\n",
              "      <td>0</td>\n",
              "      <td>3</td>\n",
              "      <td>1</td>\n",
              "      <td>1</td>\n",
              "      <td>1</td>\n",
              "      <td>1</td>\n",
              "      <td>1</td>\n",
              "      <td>2</td>\n",
              "      <td>0</td>\n",
              "      <td>41326</td>\n",
              "      <td>2 brothers who have never been separated since...</td>\n",
              "      <td>4</td>\n",
              "      <td>5328</td>\n",
              "    </tr>\n",
              "    <tr>\n",
              "      <th>5561</th>\n",
              "      <td>1</td>\n",
              "      <td>11</td>\n",
              "      <td>307</td>\n",
              "      <td>0</td>\n",
              "      <td>2</td>\n",
              "      <td>5</td>\n",
              "      <td>7</td>\n",
              "      <td>0</td>\n",
              "      <td>2</td>\n",
              "      <td>2</td>\n",
              "      <td>3</td>\n",
              "      <td>1</td>\n",
              "      <td>3</td>\n",
              "      <td>1</td>\n",
              "      <td>1</td>\n",
              "      <td>200</td>\n",
              "      <td>41326</td>\n",
              "      <td>Sierra was found wandering in Sect 4. A friend...</td>\n",
              "      <td>4</td>\n",
              "      <td>7845</td>\n",
              "    </tr>\n",
              "  </tbody>\n",
              "</table>\n",
              "</div>"
            ],
            "text/plain": [
              "      Type  Age  ...  AdoptionSpeed    PID\n",
              "9721     2    7  ...              2  13740\n",
              "3763     2   15  ...              4   5328\n",
              "5561     1   11  ...              4   7845\n",
              "\n",
              "[3 rows x 20 columns]"
            ]
          },
          "metadata": {
            "tags": []
          },
          "execution_count": 4
        }
      ]
    },
    {
      "cell_type": "markdown",
      "metadata": {
        "id": "vLOHv9OJMCw5",
        "colab_type": "text"
      },
      "source": [
        "### Tipos de datos"
      ]
    },
    {
      "cell_type": "code",
      "metadata": {
        "id": "G-elPyIYMCw6",
        "colab_type": "code",
        "outputId": "150e6232-6892-4e69-f9e0-7c50b25d3cac",
        "colab": {
          "base_uri": "https://localhost:8080/",
          "height": 374
        }
      },
      "source": [
        "dataset.dtypes"
      ],
      "execution_count": 0,
      "outputs": [
        {
          "output_type": "execute_result",
          "data": {
            "text/plain": [
              "Type              int64\n",
              "Age               int64\n",
              "Breed1            int64\n",
              "Breed2            int64\n",
              "Gender            int64\n",
              "Color1            int64\n",
              "Color2            int64\n",
              "Color3            int64\n",
              "MaturitySize      int64\n",
              "FurLength         int64\n",
              "Vaccinated        int64\n",
              "Dewormed          int64\n",
              "Sterilized        int64\n",
              "Health            int64\n",
              "Quantity          int64\n",
              "Fee               int64\n",
              "State             int64\n",
              "Description      object\n",
              "AdoptionSpeed     int64\n",
              "PID               int64\n",
              "dtype: object"
            ]
          },
          "metadata": {
            "tags": []
          },
          "execution_count": 5
        }
      ]
    },
    {
      "cell_type": "code",
      "metadata": {
        "id": "JJyLzuYBMCw-",
        "colab_type": "code",
        "colab": {}
      },
      "source": [
        "target_col = 'AdoptionSpeed'\n",
        "nlabels = dataset[target_col].unique().shape[0]"
      ],
      "execution_count": 0,
      "outputs": []
    },
    {
      "cell_type": "markdown",
      "metadata": {
        "id": "zxCfGv_SMCxB",
        "colab_type": "text"
      },
      "source": [
        "### Distribución de las etiquetas"
      ]
    },
    {
      "cell_type": "code",
      "metadata": {
        "id": "cHFDKMXxMCxC",
        "colab_type": "code",
        "outputId": "6e4f796d-02a6-47e7-e3bd-8fd3a25bd108",
        "colab": {
          "base_uri": "https://localhost:8080/",
          "height": 284
        }
      },
      "source": [
        "seaborn.countplot(dataset.AdoptionSpeed, color='blue')\n",
        "seaborn.despine()"
      ],
      "execution_count": 0,
      "outputs": [
        {
          "output_type": "display_data",
          "data": {
            "image/png": "[encoded data removed]",
            "text/plain": [
              "<Figure size 432x288 with 1 Axes>"
            ]
          },
          "metadata": {
            "tags": []
          }
        }
      ]
    },
    {
      "cell_type": "markdown",
      "metadata": {
        "id": "Gbdt-PwwMCxF",
        "colab_type": "text"
      },
      "source": [
        "https://www.tensorflow.org/tutorials/load_data/pandas_dataframe\n",
        "\n",
        "https://www.tensorflow.org/tutorials/structured_data/feature_columns\n",
        "\n",
        "Why not to use feature_columns https://github.com/tensorflow/tensorflow/issues/27895\n",
        "\n",
        "feature_columns doc 2.0 https://www.tensorflow.org/api_docs/python/tf/feature_column"
      ]
    },
    {
      "cell_type": "code",
      "metadata": {
        "id": "C3ssW5X-MCxG",
        "colab_type": "code",
        "outputId": "24a5b2ae-1c13-48f7-b339-e1b0e60a476f",
        "colab": {
          "base_uri": "https://localhost:8080/",
          "height": 34
        }
      },
      "source": [
        "try:\n",
        "    # %tensorflow_version only exists in Colab.\n",
        "    %tensorflow_version 2.x\n",
        "except Exception:\n",
        "    pass\n",
        "import tensorflow as tf\n",
        "\n",
        "from tensorflow.keras import layers, models"
      ],
      "execution_count": 0,
      "outputs": [
        {
          "output_type": "stream",
          "text": [
            "TensorFlow 2.x selected.\n"
          ],
          "name": "stdout"
        }
      ]
    },
    {
      "cell_type": "markdown",
      "metadata": {
        "id": "1g1s4PHLMCxJ",
        "colab_type": "text"
      },
      "source": [
        "## Creando las representaciones"
      ]
    },
    {
      "cell_type": "markdown",
      "metadata": {
        "id": "hNvqn8v4MCxK",
        "colab_type": "text"
      },
      "source": [
        "Tenemos una serie de variables categóricas y ordinales que pueden ser útiles para predecir la velocidad de adopción. Para cada una de ellas, tenemos que pensar cuál es la mejor forma de pasarla como input a la red. Analizaremos algunas de ellas:\n",
        "\n",
        "  * `Age` es una variable numérica discreta, podemos representarla con una única neurona con el valor original. Es muy importante normalizar este tipo de variables.\n",
        "  * `Gender` es una variable categórica. Como la variable tiene pocos valores, utilizaremos un *one-hot encoding* como representación.\n",
        "  * `Breed1` es una variable categórica que puede tomar muchos valores. Podemos utilizar *one-hot encoding*, lo cual resultará en vectores esparsos de dimensión cercana a 300. Alternativamente, podemos utilizar una capa de embedding para representar sus valores con un vector denso de baja dimesionalidad. Pregunta: ¿qué información podrá capturar este embedding?"
      ]
    },
    {
      "cell_type": "markdown",
      "metadata": {
        "id": "1suB1mfUMCxL",
        "colab_type": "text"
      },
      "source": [
        "Una vez que definimos cómo vamos a representar cada una de las columnas, las pre-procesamos para formar un numpy array. En este caso, procesaremos el dataset completo porque estamos seguros de que entrará en memoria. En otros casos, puede ser necesario un pre-procesamiento por batches, o incluso utilizar las funciones de Tensorflow incluidas en el módulo `feature_column`.\n",
        "\n",
        "NOTA: para este ejercicio, intentamos utilizar `feature_column` pero causaba que la loss diverga. La documentación no ha sido totalmente actualizada a Tensorflow 2.0, y puede ser que nos encontremos ante un error de cambio de versiones. Pueden encontrar más ejemplos en [este link](https://www.tensorflow.org/tutorials/structured_data/feature_columns)."
      ]
    },
    {
      "cell_type": "code",
      "metadata": {
        "id": "o0IZK8aXMCxM",
        "colab_type": "code",
        "colab": {}
      },
      "source": [
        "# It's important to always use the same one-hot length\n",
        "one_hot_columns = {\n",
        "    one_hot_col: dataset[one_hot_col].max()\n",
        "    for one_hot_col in ['Gender', 'Color1'] # aca vemos el valor maximo que hay en la columna Gender y Color1,\n",
        "}\n",
        "embedded_columns = {\n",
        "    embedded_col: dataset[embedded_col].max() + 1\n",
        "    for embedded_col in ['Breed1'] # aca vemos el valor maximo que hay en la columna Breed1 +1\n",
        "}\n",
        "numeric_columns = ['Age', 'Fee']"
      ],
      "execution_count": 0,
      "outputs": []
    },
    {
      "cell_type": "code",
      "metadata": {
        "id": "3Gm_W_EOMCxR",
        "colab_type": "code",
        "colab": {}
      },
      "source": [
        "def process_features(df):\n",
        "    direct_features = []\n",
        "\n",
        "    # Create one hot encodings\n",
        "    for one_hot_col, max_value in one_hot_columns.items():\n",
        "        direct_features.append(tf.keras.utils.to_categorical(df[one_hot_col] - 1, max_value)) # crea una matris de 1's y 0's con tantas columnas como clases\n",
        "\n",
        "    # Create and append numeric columns\n",
        "    # Don't forget to normalize!\n",
        "    # ....\n",
        "    \n",
        "    # Concatenate all features that don't need further embedding into a single matrix.\n",
        "    features = {'direct_features': numpy.hstack(direct_features)} #pone todos los valores de forma de horizontal\n",
        "\n",
        "    # Create embedding columns - nothing to do here. We will use the zero embedding for OOV\n",
        "    for embedded_col in embedded_columns.keys():\n",
        "        features[embedded_col] = df[embedded_col].values\n",
        "\n",
        "    # Convert labels to one-hot encodings\n",
        "    targets = tf.keras.utils.to_categorical(df[target_col], nlabels)\n",
        "    \n",
        "    return features, targets"
      ],
      "execution_count": 0,
      "outputs": []
    },
    {
      "cell_type": "code",
      "metadata": {
        "id": "o1xnvx7SMCxU",
        "colab_type": "code",
        "colab": {}
      },
      "source": [
        "X_train, y_train = process_features(dataset)"
      ],
      "execution_count": 0,
      "outputs": []
    },
    {
      "cell_type": "code",
      "metadata": {
        "id": "Kg8EQfz3MCxY",
        "colab_type": "code",
        "outputId": "e5aec1b1-16d5-4508-b309-54434a823fa5",
        "colab": {
          "base_uri": "https://localhost:8080/",
          "height": 136
        }
      },
      "source": [
        "y_train"
      ],
      "execution_count": 0,
      "outputs": [
        {
          "output_type": "execute_result",
          "data": {
            "text/plain": [
              "array([[0., 0., 1., 0., 0.],\n",
              "       [0., 0., 0., 0., 1.],\n",
              "       [0., 0., 0., 0., 1.],\n",
              "       ...,\n",
              "       [0., 0., 0., 0., 1.],\n",
              "       [0., 0., 0., 0., 1.],\n",
              "       [0., 0., 1., 0., 0.]], dtype=float32)"
            ]
          },
          "metadata": {
            "tags": []
          },
          "execution_count": 13
        }
      ]
    },
    {
      "cell_type": "code",
      "metadata": {
        "id": "Vc9NsopzA_uo",
        "colab_type": "code",
        "outputId": "1d5d7709-e38a-4b67-e2ca-346f750a8a9e",
        "colab": {
          "base_uri": "https://localhost:8080/",
          "height": 153
        }
      },
      "source": [
        "X_train"
      ],
      "execution_count": 0,
      "outputs": [
        {
          "output_type": "execute_result",
          "data": {
            "text/plain": [
              "{'Breed1': array([266, 266, 307, ..., 307, 292, 266]),\n",
              " 'direct_features': array([[1., 0., 0., ..., 0., 0., 0.],\n",
              "        [1., 0., 0., ..., 0., 1., 0.],\n",
              "        [0., 1., 0., ..., 1., 0., 0.],\n",
              "        ...,\n",
              "        [0., 1., 0., ..., 0., 0., 0.],\n",
              "        [0., 1., 0., ..., 0., 0., 0.],\n",
              "        [0., 0., 1., ..., 0., 0., 0.]], dtype=float32)}"
            ]
          },
          "metadata": {
            "tags": []
          },
          "execution_count": 14
        }
      ]
    },
    {
      "cell_type": "code",
      "metadata": {
        "id": "odjdtGPtMCxb",
        "colab_type": "code",
        "outputId": "ca5350b0-d82a-4ae9-8ef8-eed5b62f03ea",
        "colab": {
          "base_uri": "https://localhost:8080/",
          "height": 34
        }
      },
      "source": [
        "direct_features_input_shape = (X_train['direct_features'].shape[1],)\n",
        "direct_features_input_shape"
      ],
      "execution_count": 0,
      "outputs": [
        {
          "output_type": "execute_result",
          "data": {
            "text/plain": [
              "(10,)"
            ]
          },
          "metadata": {
            "tags": []
          },
          "execution_count": 15
        }
      ]
    },
    {
      "cell_type": "markdown",
      "metadata": {
        "id": "HLPoqL2mMCxe",
        "colab_type": "text"
      },
      "source": [
        "## Creando datasets iterables\n",
        "\n",
        "Como hemos visto, las redes neuronales se entrenan iterativamente con el algoritmo de *stochastic gradient descent*. Una forma de hacerlo es pasarle el dataset entero al método `fit` de un modelo de Keras, como vimos en la notebook anterior. Sin embargo, esto tiene algunas desventajas:\n",
        "\n",
        "* El dataset procesado debe entrar en memoria\n",
        "* El dataset procesado debe entrar en disco, lo cual no siempre es factible para encodings y datasets realmente grandes (ej: la wikipedia)\n",
        "* Una vez que la GPU ha terminado de procesar los datos, devuelve el control a la CPU (que estaba esperando sin hacer nada), y espera a que los nuevos datos son particionados.\n",
        "* No es posible usar cálculo distribuido en distintos file systems.\n",
        "\n",
        "Las dos primeras desventajas se solucionan preprocesando los datos en batches, y creando matrices anchas pero con pocas filas. Sin embargo, escribir este código manualmente puede ser complejo y en general lo hacemos de manera ineficiente. Solucionar las dos últimas es bastante más complicado y a la vez crítico. \n",
        "\n",
        "> **No importa qué tan buen hardware usemos para el entrenamiento del modelo, si seguimos limitados por un procesamiento de datos lineal y single core.**\n",
        "\n",
        "Por eso es recomendable utilizar las abstracciones nativas provistas por Tensorflow que paralelizan internamente muchas funciones.\n",
        "\n",
        "Para ello, crearemos un objeto `tf.data.Dataset` iterable a partir de nuestro dataframe de pandas y no tendremos que preocuparnos por la optimización de la GPU. Los datasets saben cómo crear batches, shuffles, aplicar funciones map y filter, etc. Además, podemos crear datasets a partir de diversas estructuras de datos, como numpy arrays o archivos. Pueden encontrar más información sobre los distintos tipos de Datasets en [este tutorial](https://towardsdatascience.com/how-to-use-dataset-in-tensorflow-c758ef9e4428)"
      ]
    },
    {
      "cell_type": "code",
      "metadata": {
        "id": "9BS3edQ0MCxe",
        "colab_type": "code",
        "colab": {}
      },
      "source": [
        "batch_size = 32\n",
        "# TODO shuffle the train dataset!\n",
        "train_ds = tf.data.Dataset.from_tensor_slices((X_train, y_train)).batch(batch_size)\n",
        "test_ds = tf.data.Dataset.from_tensor_slices(\n",
        "    process_features(dev_dataset)).batch(batch_size)"
      ],
      "execution_count": 0,
      "outputs": []
    },
    {
      "cell_type": "markdown",
      "metadata": {
        "id": "1ul-ZCzsMCxh",
        "colab_type": "text"
      },
      "source": [
        "Podemos ver qué es lo que tiene adentro en dataset obteniendo la primera operación."
      ]
    },
    {
      "cell_type": "code",
      "metadata": {
        "id": "ujt7lHB8MCxi",
        "colab_type": "code",
        "outputId": "1958a9f7-c8fc-462f-b598-4fc58fa08a64",
        "colab": {
          "base_uri": "https://localhost:8080/",
          "height": 1000
        }
      },
      "source": [
        "x_batch, y_batch = next(iter(train_ds))\n",
        "x_batch, y_batch"
      ],
      "execution_count": 0,
      "outputs": [
        {
          "output_type": "execute_result",
          "data": {
            "text/plain": [
              "({'Breed1': <tf.Tensor: id=20, shape=(32,), dtype=int64, numpy=\n",
              "  array([266, 266, 307, 285, 285, 307, 266, 128, 307, 264,  82, 266, 307,\n",
              "         265, 265, 251, 266, 299, 307, 237, 307, 307, 307, 307, 265, 285,\n",
              "         265, 299, 265, 109, 266, 307])>,\n",
              "  'direct_features': <tf.Tensor: id=21, shape=(32, 10), dtype=float32, numpy=\n",
              "  array([[1., 0., 0., 1., 0., 0., 0., 0., 0., 0.],\n",
              "         [1., 0., 0., 0., 0., 0., 0., 0., 1., 0.],\n",
              "         [0., 1., 0., 0., 0., 0., 0., 1., 0., 0.],\n",
              "         [0., 1., 0., 0., 1., 0., 0., 0., 0., 0.],\n",
              "         [1., 0., 0., 0., 0., 0., 1., 0., 0., 0.],\n",
              "         [1., 0., 0., 1., 0., 0., 0., 0., 0., 0.],\n",
              "         [0., 0., 1., 1., 0., 0., 0., 0., 0., 0.],\n",
              "         [0., 1., 0., 0., 1., 0., 0., 0., 0., 0.],\n",
              "         [0., 1., 0., 0., 0., 0., 0., 0., 1., 0.],\n",
              "         [1., 0., 0., 0., 0., 0., 1., 0., 0., 0.],\n",
              "         [1., 0., 0., 1., 0., 0., 0., 0., 0., 0.],\n",
              "         [1., 0., 0., 0., 1., 0., 0., 0., 0., 0.],\n",
              "         [1., 0., 0., 1., 0., 0., 0., 0., 0., 0.],\n",
              "         [0., 1., 0., 1., 0., 0., 0., 0., 0., 0.],\n",
              "         [0., 0., 1., 0., 0., 0., 0., 0., 1., 0.],\n",
              "         [0., 1., 0., 0., 1., 0., 0., 0., 0., 0.],\n",
              "         [0., 1., 0., 1., 0., 0., 0., 0., 0., 0.],\n",
              "         [0., 1., 0., 1., 0., 0., 0., 0., 0., 0.],\n",
              "         [0., 1., 0., 0., 0., 0., 0., 0., 0., 1.],\n",
              "         [0., 1., 0., 0., 1., 0., 0., 0., 0., 0.],\n",
              "         [0., 0., 1., 0., 1., 0., 0., 0., 0., 0.],\n",
              "         [1., 0., 0., 1., 0., 0., 0., 0., 0., 0.],\n",
              "         [0., 1., 0., 0., 1., 0., 0., 0., 0., 0.],\n",
              "         [1., 0., 0., 1., 0., 0., 0., 0., 0., 0.],\n",
              "         [1., 0., 0., 1., 0., 0., 0., 0., 0., 0.],\n",
              "         [0., 1., 0., 0., 0., 0., 0., 0., 1., 0.],\n",
              "         [0., 0., 1., 1., 0., 0., 0., 0., 0., 0.],\n",
              "         [1., 0., 0., 0., 0., 1., 0., 0., 0., 0.],\n",
              "         [1., 0., 0., 1., 0., 0., 0., 0., 0., 0.],\n",
              "         [1., 0., 0., 0., 0., 1., 0., 0., 0., 0.],\n",
              "         [0., 0., 1., 1., 0., 0., 0., 0., 0., 0.],\n",
              "         [0., 1., 0., 1., 0., 0., 0., 0., 0., 0.]], dtype=float32)>},\n",
              " <tf.Tensor: id=22, shape=(32, 5), dtype=float32, numpy=\n",
              " array([[0., 0., 1., 0., 0.],\n",
              "        [0., 0., 0., 0., 1.],\n",
              "        [0., 0., 0., 0., 1.],\n",
              "        [0., 0., 0., 0., 1.],\n",
              "        [0., 0., 1., 0., 0.],\n",
              "        [0., 0., 0., 1., 0.],\n",
              "        [0., 1., 0., 0., 0.],\n",
              "        [0., 0., 0., 0., 1.],\n",
              "        [0., 0., 0., 0., 1.],\n",
              "        [0., 1., 0., 0., 0.],\n",
              "        [1., 0., 0., 0., 0.],\n",
              "        [0., 0., 0., 1., 0.],\n",
              "        [0., 0., 1., 0., 0.],\n",
              "        [0., 0., 1., 0., 0.],\n",
              "        [0., 0., 0., 0., 1.],\n",
              "        [0., 0., 0., 1., 0.],\n",
              "        [0., 0., 1., 0., 0.],\n",
              "        [0., 0., 0., 0., 1.],\n",
              "        [0., 0., 0., 1., 0.],\n",
              "        [0., 0., 1., 0., 0.],\n",
              "        [0., 0., 0., 0., 1.],\n",
              "        [0., 0., 0., 0., 1.],\n",
              "        [0., 0., 0., 1., 0.],\n",
              "        [0., 0., 0., 0., 1.],\n",
              "        [0., 0., 1., 0., 0.],\n",
              "        [0., 0., 1., 0., 0.],\n",
              "        [0., 0., 0., 1., 0.],\n",
              "        [0., 0., 0., 1., 0.],\n",
              "        [0., 0., 1., 0., 0.],\n",
              "        [0., 0., 0., 1., 0.],\n",
              "        [0., 0., 1., 0., 0.],\n",
              "        [0., 0., 0., 1., 0.]], dtype=float32)>)"
            ]
          },
          "metadata": {
            "tags": []
          },
          "execution_count": 17
        }
      ]
    },
    {
      "cell_type": "markdown",
      "metadata": {
        "id": "8MQVUSy8MCxl",
        "colab_type": "text"
      },
      "source": [
        "## Construyendo el modelo\n",
        "\n",
        "Construimos el modelo, por ahora con sólo una capa oculta. Sin embargo, la complejidad más grande es combinar los features que tienen embeddings con los que no. Por cada tipo de feature, tenemos que agregar una capa de `Input`. Tener en cuenta que cada embedded feature se considera distinto.\n",
        "\n",
        "Como tenemos más de un input, tenemos que usar la API funcional de Keras en lugar de usar un modelo `Sequential`. La API funcional puede construir modelos más flexibles, ya que conectaremos explícitamente cada capa con su capa siguiente.\n",
        "\n",
        "Pueden encontrar otro ejemplo similar a este código en [esta notebook](https://www.kaggle.com/alexanderkireev/deep-learning-support-9663)."
      ]
    },
    {
      "cell_type": "code",
      "metadata": {
        "id": "rYuu2j64MCxm",
        "colab_type": "code",
        "outputId": "d2525205-6af1-423c-e211-e05d056e1ae3",
        "colab": {
          "base_uri": "https://localhost:8080/",
          "height": 34
        }
      },
      "source": [
        "tf.keras.backend.clear_session()\n",
        "\n",
        "hidden_layer_size = 68\n",
        "\n",
        "# Add one input and one embedding for each embedded column\n",
        "embedding_layers = []\n",
        "inputs = []\n",
        "for embedded_col, max_value in embedded_columns.items():\n",
        "    input_layer = layers.Input(shape=(1,), name=embedded_col)\n",
        "    inputs.append(input_layer)\n",
        "    # Define the embedding layer\n",
        "    embedding_size = int(max_value / 4)\n",
        "    embedding_layers.append(\n",
        "        tf.squeeze(layers.Embedding(input_dim=max_value, output_dim=embedding_size)(input_layer), axis=-2))\n",
        "    print('Adding embedding of size {} for layer {}'.format(embedding_size, embedded_col))\n",
        "\n",
        "# Add the direct features already calculated\n",
        "direct_features_input = layers.Input(shape=direct_features_input_shape, name='direct_features')\n",
        "inputs.append(direct_features_input)\n",
        "    \n",
        "# Concatenate everything together\n",
        "features = layers.concatenate(embedding_layers + [direct_features_input])\n",
        "\n",
        "dense1 = layers.Dense(hidden_layer_size, activation='sigmoid')(features)\n",
        "output_layer = layers.Dense(nlabels, activation='softmax')(dense1)\n",
        "\n",
        "model = models.Model(inputs=inputs, outputs=output_layer)"
      ],
      "execution_count": 0,
      "outputs": [
        {
          "output_type": "stream",
          "text": [
            "Adding embedding of size 77 for layer Breed1\n"
          ],
          "name": "stdout"
        }
      ]
    },
    {
      "cell_type": "markdown",
      "metadata": {
        "id": "J9PgPLKzMCxp",
        "colab_type": "text"
      },
      "source": [
        "### Métricas de evaluación\n",
        "\n",
        "Al igual que en la materia de aprendizaje supervisado, utilizaremos el accuracy como métrica, y agregaremos el score f1. Es opcional implementar esta predicción como un problema de regresión."
      ]
    },
    {
      "cell_type": "code",
      "metadata": {
        "id": "P6GBXCj3MCxp",
        "colab_type": "code",
        "outputId": "42894861-854e-441d-ef50-ba86fc694554",
        "colab": {
          "base_uri": "https://localhost:8080/",
          "height": 408
        }
      },
      "source": [
        "model.compile(loss='categorical_crossentropy', optimizer='adam',\n",
        "              metrics=['accuracy'])\n",
        "model.summary()"
      ],
      "execution_count": 0,
      "outputs": [
        {
          "output_type": "stream",
          "text": [
            "Model: \"model\"\n",
            "__________________________________________________________________________________________________\n",
            "Layer (type)                    Output Shape         Param #     Connected to                     \n",
            "==================================================================================================\n",
            "Breed1 (InputLayer)             [(None, 1)]          0                                            \n",
            "__________________________________________________________________________________________________\n",
            "embedding (Embedding)           (None, 1, 77)        23716       Breed1[0][0]                     \n",
            "__________________________________________________________________________________________________\n",
            "tf_op_layer_Squeeze (TensorFlow [(None, 77)]         0           embedding[0][0]                  \n",
            "__________________________________________________________________________________________________\n",
            "direct_features (InputLayer)    [(None, 10)]         0                                            \n",
            "__________________________________________________________________________________________________\n",
            "concatenate (Concatenate)       (None, 87)           0           tf_op_layer_Squeeze[0][0]        \n",
            "                                                                 direct_features[0][0]            \n",
            "__________________________________________________________________________________________________\n",
            "dense (Dense)                   (None, 68)           5984        concatenate[0][0]                \n",
            "__________________________________________________________________________________________________\n",
            "dense_1 (Dense)                 (None, 5)            345         dense[0][0]                      \n",
            "==================================================================================================\n",
            "Total params: 30,045\n",
            "Trainable params: 30,045\n",
            "Non-trainable params: 0\n",
            "__________________________________________________________________________________________________\n"
          ],
          "name": "stdout"
        }
      ]
    },
    {
      "cell_type": "markdown",
      "metadata": {
        "id": "gBKJkw1tMCxu",
        "colab_type": "text"
      },
      "source": [
        "## Entrenando el modelo\n",
        "\n",
        "Una vez que tenemos definido nuestro modelo, tenemos que entrenarlo. Sin embargo, para que los resultados sean útiles, tenemos que llevar un registro de qué hiperparámetros utilizamos y qué performance obtuvimos. Para eso, usaremos [MLFlow](https://mlflow.org/docs/latest/quickstart.html), una librería muy simple pero que permite sistematizar el registro de resultados.\n",
        "\n",
        "MLFlow soporta muchísimos casos de uso, pero por ahora sólo usaremos el más básico de todos para organizar el entrenamiento. Llamaremos *experiments* a los cambios grandes en la arquitectura, por ejemplo, si agregamos muchas capas nuevas o mecanismos de regularización. Llamaremos *runs* a las distintas ejecuciones de la misma arquitectura donde variamos sólo algunos hiperparámetros, como funciones de activación, cantidad de neuronas, tamaños de los embeddings, etc.\n",
        "\n",
        "Para acceder a la interfaz gráfica donde podemos ver las *run*, en una nueva terminal tenemos que ejecutar \n",
        "\n",
        "    $ mlflow ui -p PORT\n",
        "    \n",
        "Y abrir `https://localhost:PORT` en nuestro navegador (donde `PORT` es un número de puerto). Si estamos en un servidor, es probab, tendremos que abrir un nuevo puerto ssh a `PORT`."
      ]
    },
    {
      "cell_type": "code",
      "metadata": {
        "id": "JToc0xH0MCxv",
        "colab_type": "code",
        "colab": {}
      },
      "source": [
        "import mlflow"
      ],
      "execution_count": 0,
      "outputs": []
    },
    {
      "cell_type": "code",
      "metadata": {
        "id": "616-MH5eMCxy",
        "colab_type": "code",
        "outputId": "c8018a8a-5264-4bf5-fe67-904e88566c5b",
        "colab": {
          "base_uri": "https://localhost:8080/",
          "height": 1000
        }
      },
      "source": [
        "mlflow.set_experiment('very_base_approach')\n",
        "\n",
        "with mlflow.start_run(nested=True):\n",
        "    # Log model hiperparameters first\n",
        "    mlflow.log_param('hidden_layer_size', hidden_layer_size)\n",
        "    mlflow.log_param('embedded_columns', embedded_columns)\n",
        "    mlflow.log_param('one_hot_columns', one_hot_columns)\n",
        "    #mlflow.log_param('numerical_columns', numerical_columns)  # Not using these yet\n",
        "    \n",
        "    # Train\n",
        "    epochs = 60\n",
        "    history = model.fit(train_ds, epochs=epochs)\n",
        "    \n",
        "    # Evaluate\n",
        "    loss, accuracy = model.evaluate(test_ds)\n",
        "    print(\"*** Test loss: {} - accuracy: {}\".format(loss, accuracy))\n",
        "    mlflow.log_metric('epochs', epochs)\n",
        "    mlflow.log_metric('loss', loss)\n",
        "    mlflow.log_metric('accuracy', accuracy)"
      ],
      "execution_count": 0,
      "outputs": [
        {
          "output_type": "stream",
          "text": [
            "Epoch 1/60\n",
            "265/265 [==============================] - 2s 7ms/step - loss: 1.4553 - accuracy: 0.3036\n",
            "Epoch 2/60\n",
            "265/265 [==============================] - 1s 2ms/step - loss: 1.4419 - accuracy: 0.3171\n",
            "Epoch 3/60\n",
            "265/265 [==============================] - 1s 2ms/step - loss: 1.4351 - accuracy: 0.3268\n",
            "Epoch 4/60\n",
            "265/265 [==============================] - 1s 2ms/step - loss: 1.4300 - accuracy: 0.3301\n",
            "Epoch 5/60\n",
            "265/265 [==============================] - 1s 2ms/step - loss: 1.4261 - accuracy: 0.3309\n",
            "Epoch 6/60\n",
            "265/265 [==============================] - 1s 2ms/step - loss: 1.4229 - accuracy: 0.3315\n",
            "Epoch 7/60\n",
            "265/265 [==============================] - 1s 2ms/step - loss: 1.4205 - accuracy: 0.3309\n",
            "Epoch 8/60\n",
            "265/265 [==============================] - 1s 2ms/step - loss: 1.4186 - accuracy: 0.3314\n",
            "Epoch 9/60\n",
            "265/265 [==============================] - 1s 2ms/step - loss: 1.4171 - accuracy: 0.3315\n",
            "Epoch 10/60\n",
            "265/265 [==============================] - 1s 2ms/step - loss: 1.4160 - accuracy: 0.3309\n",
            "Epoch 11/60\n",
            "265/265 [==============================] - 1s 2ms/step - loss: 1.4150 - accuracy: 0.3305\n",
            "Epoch 12/60\n",
            "265/265 [==============================] - 1s 2ms/step - loss: 1.4142 - accuracy: 0.3305\n",
            "Epoch 13/60\n",
            "265/265 [==============================] - 1s 2ms/step - loss: 1.4136 - accuracy: 0.3308\n",
            "Epoch 14/60\n",
            "265/265 [==============================] - 1s 2ms/step - loss: 1.4130 - accuracy: 0.3308\n",
            "Epoch 15/60\n",
            "265/265 [==============================] - 1s 2ms/step - loss: 1.4126 - accuracy: 0.3304\n",
            "Epoch 16/60\n",
            "265/265 [==============================] - 1s 2ms/step - loss: 1.4122 - accuracy: 0.3308\n",
            "Epoch 17/60\n",
            "265/265 [==============================] - 1s 2ms/step - loss: 1.4118 - accuracy: 0.3310\n",
            "Epoch 18/60\n",
            "265/265 [==============================] - 1s 2ms/step - loss: 1.4115 - accuracy: 0.3311\n",
            "Epoch 19/60\n",
            "265/265 [==============================] - 1s 2ms/step - loss: 1.4113 - accuracy: 0.3311\n",
            "Epoch 20/60\n",
            "265/265 [==============================] - 1s 2ms/step - loss: 1.4110 - accuracy: 0.3311\n",
            "Epoch 21/60\n",
            "265/265 [==============================] - 1s 2ms/step - loss: 1.4108 - accuracy: 0.3316\n",
            "Epoch 22/60\n",
            "265/265 [==============================] - 1s 2ms/step - loss: 1.4106 - accuracy: 0.3314\n",
            "Epoch 23/60\n",
            "265/265 [==============================] - 1s 2ms/step - loss: 1.4104 - accuracy: 0.3315\n",
            "Epoch 24/60\n",
            "265/265 [==============================] - 1s 2ms/step - loss: 1.4103 - accuracy: 0.3315\n",
            "Epoch 25/60\n",
            "265/265 [==============================] - 1s 2ms/step - loss: 1.4101 - accuracy: 0.3317\n",
            "Epoch 26/60\n",
            "265/265 [==============================] - 1s 2ms/step - loss: 1.4100 - accuracy: 0.3320\n",
            "Epoch 27/60\n",
            "265/265 [==============================] - 1s 2ms/step - loss: 1.4099 - accuracy: 0.3320\n",
            "Epoch 28/60\n",
            "265/265 [==============================] - 1s 2ms/step - loss: 1.4098 - accuracy: 0.3321\n",
            "Epoch 29/60\n",
            "265/265 [==============================] - 1s 2ms/step - loss: 1.4096 - accuracy: 0.3322\n",
            "Epoch 30/60\n",
            "265/265 [==============================] - 1s 2ms/step - loss: 1.4095 - accuracy: 0.3321\n",
            "Epoch 31/60\n",
            "265/265 [==============================] - 1s 2ms/step - loss: 1.4094 - accuracy: 0.3321\n",
            "Epoch 32/60\n",
            "265/265 [==============================] - 1s 2ms/step - loss: 1.4093 - accuracy: 0.3320\n",
            "Epoch 33/60\n",
            "265/265 [==============================] - 1s 2ms/step - loss: 1.4092 - accuracy: 0.3317\n",
            "Epoch 34/60\n",
            "265/265 [==============================] - 1s 2ms/step - loss: 1.4091 - accuracy: 0.3318\n",
            "Epoch 35/60\n",
            "265/265 [==============================] - 1s 2ms/step - loss: 1.4091 - accuracy: 0.3316\n",
            "Epoch 36/60\n",
            "265/265 [==============================] - 1s 2ms/step - loss: 1.4090 - accuracy: 0.3322\n",
            "Epoch 37/60\n",
            "265/265 [==============================] - 1s 2ms/step - loss: 1.4089 - accuracy: 0.3323\n",
            "Epoch 38/60\n",
            "265/265 [==============================] - 1s 2ms/step - loss: 1.4088 - accuracy: 0.3325\n",
            "Epoch 39/60\n",
            "265/265 [==============================] - 1s 2ms/step - loss: 1.4087 - accuracy: 0.3329\n",
            "Epoch 40/60\n",
            "265/265 [==============================] - 1s 2ms/step - loss: 1.4087 - accuracy: 0.3328\n",
            "Epoch 41/60\n",
            "265/265 [==============================] - 1s 2ms/step - loss: 1.4086 - accuracy: 0.3330\n",
            "Epoch 42/60\n",
            "265/265 [==============================] - 1s 2ms/step - loss: 1.4085 - accuracy: 0.3328\n",
            "Epoch 43/60\n",
            "265/265 [==============================] - 1s 2ms/step - loss: 1.4085 - accuracy: 0.3329\n",
            "Epoch 44/60\n",
            "265/265 [==============================] - 1s 2ms/step - loss: 1.4084 - accuracy: 0.3328\n",
            "Epoch 45/60\n",
            "265/265 [==============================] - 1s 2ms/step - loss: 1.4083 - accuracy: 0.3331\n",
            "Epoch 46/60\n",
            "265/265 [==============================] - 1s 2ms/step - loss: 1.4083 - accuracy: 0.3331\n",
            "Epoch 47/60\n",
            "265/265 [==============================] - 1s 2ms/step - loss: 1.4082 - accuracy: 0.3330\n",
            "Epoch 48/60\n",
            "265/265 [==============================] - 1s 2ms/step - loss: 1.4081 - accuracy: 0.3331\n",
            "Epoch 49/60\n",
            "265/265 [==============================] - 1s 2ms/step - loss: 1.4081 - accuracy: 0.3334\n",
            "Epoch 50/60\n",
            "265/265 [==============================] - 1s 2ms/step - loss: 1.4080 - accuracy: 0.3334\n",
            "Epoch 51/60\n",
            "265/265 [==============================] - 1s 2ms/step - loss: 1.4080 - accuracy: 0.3335\n",
            "Epoch 52/60\n",
            "265/265 [==============================] - 1s 2ms/step - loss: 1.4079 - accuracy: 0.3334\n",
            "Epoch 53/60\n",
            "265/265 [==============================] - 1s 2ms/step - loss: 1.4078 - accuracy: 0.3331\n",
            "Epoch 54/60\n",
            "265/265 [==============================] - 1s 2ms/step - loss: 1.4078 - accuracy: 0.3327\n",
            "Epoch 55/60\n",
            "265/265 [==============================] - 1s 2ms/step - loss: 1.4077 - accuracy: 0.3324\n",
            "Epoch 56/60\n",
            "265/265 [==============================] - 1s 2ms/step - loss: 1.4077 - accuracy: 0.3325\n",
            "Epoch 57/60\n",
            "265/265 [==============================] - 1s 2ms/step - loss: 1.4076 - accuracy: 0.3327\n",
            "Epoch 58/60\n",
            "265/265 [==============================] - 1s 2ms/step - loss: 1.4075 - accuracy: 0.3328\n",
            "Epoch 59/60\n",
            "265/265 [==============================] - 1s 2ms/step - loss: 1.4075 - accuracy: 0.3327\n",
            "Epoch 60/60\n",
            "265/265 [==============================] - 1s 3ms/step - loss: 1.4074 - accuracy: 0.3325\n",
            "67/67 [==============================] - 0s 3ms/step - loss: 1.4688 - accuracy: 0.3137\n",
            "*** Test loss: 1.4687561152586297 - accuracy: 0.3136513829231262\n"
          ],
          "name": "stdout"
        }
      ]
    },
    {
      "cell_type": "markdown",
      "metadata": {
        "id": "eu4tNmIDMCx2",
        "colab_type": "text"
      },
      "source": [
        "## Evaluando del modelo\n",
        "\n",
        "Además de tener en cuenta las métricas de performance del modelo, es importante mirar los resultados obtenidos y controlar que el modelo efectivamente está aprendiendo algo relevante."
      ]
    },
    {
      "cell_type": "code",
      "metadata": {
        "id": "xCC0-O6YMCx2",
        "colab_type": "code",
        "outputId": "d515c9ec-2036-497e-d9f5-82b885b7b807",
        "colab": {
          "base_uri": "https://localhost:8080/",
          "height": 287
        }
      },
      "source": [
        "predictions = numpy.argmax(model.predict(test_ds), axis=1)\n",
        "seaborn.countplot(predictions)"
      ],
      "execution_count": 0,
      "outputs": [
        {
          "output_type": "execute_result",
          "data": {
            "text/plain": [
              "<matplotlib.axes._subplots.AxesSubplot at 0x7ff3fa329be0>"
            ]
          },
          "metadata": {
            "tags": []
          },
          "execution_count": 71
        },
        {
          "output_type": "display_data",
          "data": {
            "image/png": "[encoded data removed]",
            "text/plain": [
              "<Figure size 432x288 with 1 Axes>"
            ]
          },
          "metadata": {
            "tags": []
          }
        }
      ]
    },
    {
      "cell_type": "code",
      "metadata": {
        "id": "kybPD411FHlE",
        "colab_type": "code",
        "colab": {}
      },
      "source": [
        "import pandas as pd\n",
        "con = pd.DataFrame(np.arange(1,2118),columns=['PID'])"
      ],
      "execution_count": 0,
      "outputs": []
    },
    {
      "cell_type": "code",
      "metadata": {
        "id": "yTtuwJEcfNGL",
        "colab_type": "code",
        "colab": {}
      },
      "source": [
        "con['AdoptionSpeed'] = predictions"
      ],
      "execution_count": 0,
      "outputs": []
    },
    {
      "cell_type": "code",
      "metadata": {
        "id": "_EdVVosdfPvY",
        "colab_type": "code",
        "colab": {}
      },
      "source": [
        "def process_features2(df):\n",
        "    direct_features = []\n",
        "\n",
        "    # Create one hot encodings\n",
        "    for one_hot_col, max_value in one_hot_columns.items():\n",
        "        direct_features.append(tf.keras.utils.to_categorical(df[one_hot_col] - 1, max_value)) # crea una matris de 1's y 0's con tantas columnas como clases\n",
        "\n",
        "    # Create and append numeric columns\n",
        "    # Don't forget to normalize!\n",
        "    # ....\n",
        "    \n",
        "    # Concatenate all features that don't need further embedding into a single matrix.\n",
        "    features = {'direct_features': numpy.hstack(direct_features)} #pone todos los valores de forma de horizontal\n",
        "\n",
        "    # Create embedding columns - nothing to do here. We will use the zero embedding for OOV\n",
        "    for embedded_col in embedded_columns.keys():\n",
        "        features[embedded_col] = df[embedded_col].values\n",
        "\n",
        "    # Convert labels to one-hot encodings\n",
        "    #targets = tf.keras.utils.to_categorical(df[target_col], nlabels)\n",
        "    \n",
        "    return features#, targets"
      ],
      "execution_count": 0,
      "outputs": []
    },
    {
      "cell_type": "code",
      "metadata": {
        "id": "GenLOAAsfX9F",
        "colab_type": "code",
        "colab": {}
      },
      "source": [
        "prub = pd.read_csv(os.path.join(DATA_DIRECTORY, 'test.csv'))\n",
        "prub_ds = tf.data.Dataset.from_tensor_slices(process_features2(prub)).batch(batch_size)"
      ],
      "execution_count": 0,
      "outputs": []
    },
    {
      "cell_type": "code",
      "metadata": {
        "id": "Xjd0cqS1kSAQ",
        "colab_type": "code",
        "colab": {}
      },
      "source": [
        "\n",
        "predict = numpy.argmax(model.predict(prub_ds), axis=1)\n",
        "\n",
        "con = pd.DataFrame(prub.PID,columns=['PID'])"
      ],
      "execution_count": 0,
      "outputs": []
    },
    {
      "cell_type": "code",
      "metadata": {
        "id": "3EZiryhFj3Yp",
        "colab_type": "code",
        "colab": {}
      },
      "source": [
        "con['AdoptionSpeed'] = predict\n",
        "\n"
      ],
      "execution_count": 0,
      "outputs": []
    },
    {
      "cell_type": "code",
      "metadata": {
        "id": "MjwZxWKrlcdj",
        "colab_type": "code",
        "colab": {}
      },
      "source": [
        "con.set_index('PID',inplace=True)"
      ],
      "execution_count": 0,
      "outputs": []
    },
    {
      "cell_type": "code",
      "metadata": {
        "id": "3eEznz86llfO",
        "colab_type": "code",
        "colab": {}
      },
      "source": [
        "con.to_csv('prediction.csv')"
      ],
      "execution_count": 0,
      "outputs": []
    },
    {
      "cell_type": "code",
      "metadata": {
        "id": "X_NpfePbnotm",
        "colab_type": "code",
        "outputId": "012db6ab-06c0-4316-8289-e64bcb7f28ff",
        "colab": {
          "base_uri": "https://localhost:8080/",
          "height": 51
        }
      },
      "source": [
        "con.iloc[3121]"
      ],
      "execution_count": 0,
      "outputs": [
        {
          "output_type": "execute_result",
          "data": {
            "text/plain": [
              "AdoptionSpeed    2\n",
              "Name: 3122, dtype: int64"
            ]
          },
          "metadata": {
            "tags": []
          },
          "execution_count": 118
        }
      ]
    },
    {
      "cell_type": "code",
      "metadata": {
        "id": "2EMK57t_pGNN",
        "colab_type": "code",
        "outputId": "7221d73a-2ce7-4914-8866-24700690cc0e",
        "colab": {
          "base_uri": "https://localhost:8080/",
          "height": 1000
        }
      },
      "source": [
        "prub.PID"
      ],
      "execution_count": 0,
      "outputs": [
        {
          "output_type": "execute_result",
          "data": {
            "text/plain": [
              "0           1\n",
              "1           2\n",
              "2           7\n",
              "3           9\n",
              "4          11\n",
              "5          12\n",
              "6          25\n",
              "7          33\n",
              "8          34\n",
              "9          35\n",
              "10         43\n",
              "11         50\n",
              "12         51\n",
              "13         52\n",
              "14         53\n",
              "15         55\n",
              "16         62\n",
              "17         67\n",
              "18         69\n",
              "19         70\n",
              "20         73\n",
              "21         74\n",
              "22         75\n",
              "23         76\n",
              "24         80\n",
              "25         86\n",
              "26         88\n",
              "27         91\n",
              "28         92\n",
              "29         94\n",
              "        ...  \n",
              "4381    14893\n",
              "4382    14904\n",
              "4383    14905\n",
              "4384    14912\n",
              "4385    14916\n",
              "4386    14918\n",
              "4387    14920\n",
              "4388    14921\n",
              "4389    14922\n",
              "4390    14926\n",
              "4391    14935\n",
              "4392    14936\n",
              "4393    14937\n",
              "4394    14939\n",
              "4395    14945\n",
              "4396    14952\n",
              "4397    14955\n",
              "4398    14956\n",
              "4399    14957\n",
              "4400    14961\n",
              "4401    14962\n",
              "4402    14965\n",
              "4403    14970\n",
              "4404    14979\n",
              "4405    14982\n",
              "4406    14984\n",
              "4407    14986\n",
              "4408    14987\n",
              "4409    14989\n",
              "4410    14990\n",
              "Name: PID, Length: 4411, dtype: int64"
            ]
          },
          "metadata": {
            "tags": []
          },
          "execution_count": 121
        }
      ]
    },
    {
      "cell_type": "code",
      "metadata": {
        "id": "AIxcp0Rbprzl",
        "colab_type": "code",
        "colab": {}
      },
      "source": [
        ""
      ],
      "execution_count": 0,
      "outputs": []
    }
  ]
}