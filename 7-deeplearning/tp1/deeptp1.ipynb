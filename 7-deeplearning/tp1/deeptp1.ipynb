{
  "nbformat": 4,
  "nbformat_minor": 0,
  "metadata": {
    "kernelspec": {
      "display_name": "Python 3",
      "language": "python",
      "name": "python3"
    },
    "language_info": {
      "codemirror_mode": {
        "name": "ipython",
        "version": 3
      },
      "file_extension": ".py",
      "mimetype": "text/x-python",
      "name": "python",
      "nbconvert_exporter": "python",
      "pygments_lexer": "ipython3",
      "version": "3.7.3"
    },
    "colab": {
      "name": "Copia de 2_data_processing.ipynb",
      "provenance": [],
      "collapsed_sections": [],
      "toc_visible": true
    }
  },
  "cells": [
    {
      "cell_type": "markdown",
      "metadata": {
        "id": "dF6fBS3jMCwn",
        "colab_type": "text"
      },
      "source": [
        "# Procesamiento de datos usando Tensorflow\n",
        "\n",
        "Cuando trabajamos con Tensorflow, existen una gran variedad de formas en las que podemos alimentar los datos a nuestra red neuronal. Esto también tiene que ver con el tipo de datos y los pasos de pre-procesamiento que sean necesarios.\n",
        "\n",
        "En la notebook 1 se utilizó un conjunto de datos de imágenes, esencialmente con variables numéricas. En esta notebook trabajemos con datos categóricos y profundizaremos en cómo trasformar los ejemplos dentro del pipeline de clasificación.\n",
        "\n",
        "Ante un problema de clasificación, lo primero que debemos hacer es **inspeccionar los datos y construir un prototipo de modelo**. La forma más fácil de hacerlo es con notebooks. Sin embargo, a la hora de llevar a cabo experimentos con redes neuronales, un entorno interactivo puede no ser la mejor opción. En primer lugar, explorar los hiperparámetros de una arquitectura neuronal puede llevar varias horas e incluso días, perdiendo todas las ventajas del entorno interactivo. En segundo lugar, no podemos encolar ejecuciones de notebooks para reservar recursos como las GPUs.\n",
        "\n",
        "Por ello, primero realizaremos una exploración inicial de los datos en esta notebook. Una vez que decidamos qué tipo de modelo implementar, pasaremos el modelo a un script de python que cargue los datos, construya el modelo, lo entrene, y finalmente guarde las métricas relevantes.\n",
        "\n",
        "En esta notebook, veremos varios conceptos avanzados de entrenamiento de redes:\n",
        "\n",
        "  * Uso de `tf.data.Dataset` para optimizar la ingesta de datos. \n",
        "  * Uso de capas `tf.layers.Embedding`.\n",
        "  * Combinación de distintos tipos de features en un mismo modelo con múltiples inputs.\n",
        "  * MLFlow para registro de experimentos"
      ]
    },
    {
      "cell_type": "code",
      "metadata": {
        "id": "tntC5azgMCwp",
        "colab_type": "code",
        "colab": {}
      },
      "source": [
        "import os\n",
        "import numpy\n",
        "import pandas\n",
        "import seaborn\n",
        "from sklearn.preprocessing import MinMaxScaler\n",
        "seaborn.set_style('whitegrid')\n",
        "seaborn.set_palette('colorblind')\n",
        "seaborn.set_context('paper')"
      ],
      "execution_count": 0,
      "outputs": []
    },
    {
      "cell_type": "markdown",
      "metadata": {
        "id": "ffBOB4zcMCws",
        "colab_type": "text"
      },
      "source": [
        "## Cargando los datos\n",
        "\n",
        "Una vez más, estaremos trabajando con el conjunto de datos `petfinder`. Deben descargarlo siguiendo las instrucciones en la [notebook 0](./0_set_up.ipynb), descomprimirlo y luego ajustar la dirección en esta notebook según corresponda. \n",
        "\n",
        "Algunas de las preguntas que respondemos durante esta etapa son:\n",
        "\n",
        " * ¿Qué tipo de tarea tengo que resolver? ¿Clasificación o regresión?\n",
        " * ¿Qué distribución tienen mis etiquetas?\n",
        " * ¿Qué tipo de datos tengo disponible para la clasificación? ¿Cuáles son útiles?\n",
        " * Dadas las características disponibles y el problema que quiero resolver, ¿qué tipo de clasificador o arquitectura conviene utilizar? ¿De qué manera se están representando las causas latentes del problema en el modelo elegido?\n",
        " * Dadas las características disponibles y el modelo elegido, ¿de qué forma representaremos cada una de dichas características?\n",
        " \n",
        "En esta clase utilizaremos redes neuronales como modelos porque es el objetivo de la materia, pero sigue siendo importante qué aspectos podremos capturar con este tipo de modelo, especialmente para tener intuiciones sobre qué hiperparámetros explorar."
      ]
    },
    {
      "cell_type": "code",
      "metadata": {
        "id": "9sjiE7nwMCwu",
        "colab_type": "code",
        "colab": {}
      },
      "source": [
        "DATA_DIRECTORY = '/content/'"
      ],
      "execution_count": 0,
      "outputs": []
    },
    {
      "cell_type": "code",
      "metadata": {
        "id": "M9ocFpIZMCwx",
        "colab_type": "code",
        "colab": {}
      },
      "source": [
        "# Take a sample of data\n",
        "\n",
        "from sklearn.model_selection import train_test_split\n",
        "\n",
        "dataset, dev_dataset = train_test_split(\n",
        "    pandas.read_csv(os.path.join(DATA_DIRECTORY, 'train.csv')), test_size=0.2)"
      ],
      "execution_count": 0,
      "outputs": []
    },
    {
      "cell_type": "code",
      "metadata": {
        "id": "elXz40w3MCw0",
        "colab_type": "code",
        "outputId": "af4ff8b0-be77-40df-b684-08da5fffa74f",
        "colab": {
          "base_uri": "https://localhost:8080/",
          "height": 332
        }
      },
      "source": [
        "dataset[:3]"
      ],
      "execution_count": 0,
      "outputs": [
        {
          "output_type": "execute_result",
          "data": {
            "text/html": [
              "<div>\n",
              "<style scoped>\n",
              "    .dataframe tbody tr th:only-of-type {\n",
              "        vertical-align: middle;\n",
              "    }\n",
              "\n",
              "    .dataframe tbody tr th {\n",
              "        vertical-align: top;\n",
              "    }\n",
              "\n",
              "    .dataframe thead th {\n",
              "        text-align: right;\n",
              "    }\n",
              "</style>\n",
              "<table border=\"1\" class=\"dataframe\">\n",
              "  <thead>\n",
              "    <tr style=\"text-align: right;\">\n",
              "      <th></th>\n",
              "      <th>Type</th>\n",
              "      <th>Age</th>\n",
              "      <th>Breed1</th>\n",
              "      <th>Breed2</th>\n",
              "      <th>Gender</th>\n",
              "      <th>Color1</th>\n",
              "      <th>Color2</th>\n",
              "      <th>Color3</th>\n",
              "      <th>MaturitySize</th>\n",
              "      <th>FurLength</th>\n",
              "      <th>Vaccinated</th>\n",
              "      <th>Dewormed</th>\n",
              "      <th>Sterilized</th>\n",
              "      <th>Health</th>\n",
              "      <th>Quantity</th>\n",
              "      <th>Fee</th>\n",
              "      <th>State</th>\n",
              "      <th>Description</th>\n",
              "      <th>AdoptionSpeed</th>\n",
              "      <th>PID</th>\n",
              "    </tr>\n",
              "  </thead>\n",
              "  <tbody>\n",
              "    <tr>\n",
              "      <th>7161</th>\n",
              "      <td>1</td>\n",
              "      <td>4</td>\n",
              "      <td>307</td>\n",
              "      <td>0</td>\n",
              "      <td>2</td>\n",
              "      <td>2</td>\n",
              "      <td>7</td>\n",
              "      <td>0</td>\n",
              "      <td>2</td>\n",
              "      <td>2</td>\n",
              "      <td>1</td>\n",
              "      <td>1</td>\n",
              "      <td>3</td>\n",
              "      <td>1</td>\n",
              "      <td>1</td>\n",
              "      <td>0</td>\n",
              "      <td>41326</td>\n",
              "      <td>I was abandoned at R&amp;R Serdang by my cruel and...</td>\n",
              "      <td>4</td>\n",
              "      <td>10073</td>\n",
              "    </tr>\n",
              "    <tr>\n",
              "      <th>5568</th>\n",
              "      <td>1</td>\n",
              "      <td>36</td>\n",
              "      <td>103</td>\n",
              "      <td>0</td>\n",
              "      <td>2</td>\n",
              "      <td>1</td>\n",
              "      <td>2</td>\n",
              "      <td>0</td>\n",
              "      <td>4</td>\n",
              "      <td>1</td>\n",
              "      <td>3</td>\n",
              "      <td>3</td>\n",
              "      <td>3</td>\n",
              "      <td>1</td>\n",
              "      <td>1</td>\n",
              "      <td>0</td>\n",
              "      <td>41326</td>\n",
              "      <td>Lady was found lost in Taman Tun. She is a fri...</td>\n",
              "      <td>2</td>\n",
              "      <td>7854</td>\n",
              "    </tr>\n",
              "    <tr>\n",
              "      <th>1140</th>\n",
              "      <td>2</td>\n",
              "      <td>1</td>\n",
              "      <td>266</td>\n",
              "      <td>0</td>\n",
              "      <td>3</td>\n",
              "      <td>2</td>\n",
              "      <td>3</td>\n",
              "      <td>5</td>\n",
              "      <td>2</td>\n",
              "      <td>1</td>\n",
              "      <td>2</td>\n",
              "      <td>2</td>\n",
              "      <td>2</td>\n",
              "      <td>1</td>\n",
              "      <td>4</td>\n",
              "      <td>0</td>\n",
              "      <td>41326</td>\n",
              "      <td>4 pretty little kitties orphaned and rescued f...</td>\n",
              "      <td>1</td>\n",
              "      <td>1618</td>\n",
              "    </tr>\n",
              "  </tbody>\n",
              "</table>\n",
              "</div>"
            ],
            "text/plain": [
              "      Type  Age  ...  AdoptionSpeed    PID\n",
              "7161     1    4  ...              4  10073\n",
              "5568     1   36  ...              2   7854\n",
              "1140     2    1  ...              1   1618\n",
              "\n",
              "[3 rows x 20 columns]"
            ]
          },
          "metadata": {
            "tags": []
          },
          "execution_count": 67
        }
      ]
    },
    {
      "cell_type": "markdown",
      "metadata": {
        "id": "vLOHv9OJMCw5",
        "colab_type": "text"
      },
      "source": [
        "### Tipos de datos"
      ]
    },
    {
      "cell_type": "code",
      "metadata": {
        "id": "G-elPyIYMCw6",
        "colab_type": "code",
        "outputId": "7297c463-f30c-48c6-a7f0-c8aedf435bf2",
        "colab": {
          "base_uri": "https://localhost:8080/",
          "height": 374
        }
      },
      "source": [
        "dataset.dtypes"
      ],
      "execution_count": 0,
      "outputs": [
        {
          "output_type": "execute_result",
          "data": {
            "text/plain": [
              "Type              int64\n",
              "Age               int64\n",
              "Breed1            int64\n",
              "Breed2            int64\n",
              "Gender            int64\n",
              "Color1            int64\n",
              "Color2            int64\n",
              "Color3            int64\n",
              "MaturitySize      int64\n",
              "FurLength         int64\n",
              "Vaccinated        int64\n",
              "Dewormed          int64\n",
              "Sterilized        int64\n",
              "Health            int64\n",
              "Quantity          int64\n",
              "Fee               int64\n",
              "State             int64\n",
              "Description      object\n",
              "AdoptionSpeed     int64\n",
              "PID               int64\n",
              "dtype: object"
            ]
          },
          "metadata": {
            "tags": []
          },
          "execution_count": 68
        }
      ]
    },
    {
      "cell_type": "code",
      "metadata": {
        "id": "JJyLzuYBMCw-",
        "colab_type": "code",
        "colab": {}
      },
      "source": [
        "target_col = 'AdoptionSpeed'\n",
        "nlabels = dataset[target_col].unique().shape[0]"
      ],
      "execution_count": 0,
      "outputs": []
    },
    {
      "cell_type": "markdown",
      "metadata": {
        "id": "zxCfGv_SMCxB",
        "colab_type": "text"
      },
      "source": [
        "### Distribución de las etiquetas"
      ]
    },
    {
      "cell_type": "code",
      "metadata": {
        "id": "cHFDKMXxMCxC",
        "colab_type": "code",
        "outputId": "e86cbd36-9b4e-485f-cb1d-fc565d7f5033",
        "colab": {
          "base_uri": "https://localhost:8080/",
          "height": 280
        }
      },
      "source": [
        "seaborn.countplot(dataset.AdoptionSpeed, color='blue')\n",
        "seaborn.despine()"
      ],
      "execution_count": 0,
      "outputs": [
        {
          "output_type": "display_data",
          "data": {
            "image/png": "[encoded data removed]",
            "text/plain": [
              "<Figure size 432x288 with 1 Axes>"
            ]
          },
          "metadata": {
            "tags": []
          }
        }
      ]
    },
    {
      "cell_type": "markdown",
      "metadata": {
        "id": "Gbdt-PwwMCxF",
        "colab_type": "text"
      },
      "source": [
        "https://www.tensorflow.org/tutorials/load_data/pandas_dataframe\n",
        "\n",
        "https://www.tensorflow.org/tutorials/structured_data/feature_columns\n",
        "\n",
        "Why not to use feature_columns https://github.com/tensorflow/tensorflow/issues/27895\n",
        "\n",
        "feature_columns doc 2.0 https://www.tensorflow.org/api_docs/python/tf/feature_column"
      ]
    },
    {
      "cell_type": "code",
      "metadata": {
        "id": "C3ssW5X-MCxG",
        "colab_type": "code",
        "colab": {}
      },
      "source": [
        "try:\n",
        "    # %tensorflow_version only exists in Colab.\n",
        "    %tensorflow_version 2.x\n",
        "except Exception:\n",
        "    pass\n",
        "import tensorflow as tf\n",
        "\n",
        "from tensorflow.keras import layers, models"
      ],
      "execution_count": 0,
      "outputs": []
    },
    {
      "cell_type": "markdown",
      "metadata": {
        "id": "1g1s4PHLMCxJ",
        "colab_type": "text"
      },
      "source": [
        "## Creando las representaciones"
      ]
    },
    {
      "cell_type": "markdown",
      "metadata": {
        "id": "hNvqn8v4MCxK",
        "colab_type": "text"
      },
      "source": [
        "Tenemos una serie de variables categóricas y ordinales que pueden ser útiles para predecir la velocidad de adopción. Para cada una de ellas, tenemos que pensar cuál es la mejor forma de pasarla como input a la red. Analizaremos algunas de ellas:\n",
        "\n",
        "  * `Age` es una variable numérica discreta, podemos representarla con una única neurona con el valor original. Es muy importante normalizar este tipo de variables.\n",
        "  * `Gender` es una variable categórica. Como la variable tiene pocos valores, utilizaremos un *one-hot encoding* como representación.\n",
        "  * `Breed1` es una variable categórica que puede tomar muchos valores. Podemos utilizar *one-hot encoding*, lo cual resultará en vectores esparsos de dimensión cercana a 300. Alternativamente, podemos utilizar una capa de embedding para representar sus valores con un vector denso de baja dimesionalidad. Pregunta: ¿qué información podrá capturar este embedding?"
      ]
    },
    {
      "cell_type": "markdown",
      "metadata": {
        "id": "1suB1mfUMCxL",
        "colab_type": "text"
      },
      "source": [
        "Una vez que definimos cómo vamos a representar cada una de las columnas, las pre-procesamos para formar un numpy array. En este caso, procesaremos el dataset completo porque estamos seguros de que entrará en memoria. En otros casos, puede ser necesario un pre-procesamiento por batches, o incluso utilizar las funciones de Tensorflow incluidas en el módulo `feature_column`.\n",
        "\n",
        "NOTA: para este ejercicio, intentamos utilizar `feature_column` pero causaba que la loss diverga. La documentación no ha sido totalmente actualizada a Tensorflow 2.0, y puede ser que nos encontremos ante un error de cambio de versiones. Pueden encontrar más ejemplos en [este link](https://www.tensorflow.org/tutorials/structured_data/feature_columns)."
      ]
    },
    {
      "cell_type": "code",
      "metadata": {
        "id": "o0IZK8aXMCxM",
        "colab_type": "code",
        "colab": {}
      },
      "source": [
        "# It's important to always use the same one-hot length\n",
        "one_hot_columns = {\n",
        "    one_hot_col: dataset[one_hot_col].max()\n",
        "    for one_hot_col in ['Gender', 'Color1','Color2','Color3','Sterilized','Health','Type','MaturitySize'] # aca vemos el valor maximo que hay en la columna Gender y Color1,\n",
        "}\n",
        "embedded_columns = {\n",
        "    embedded_col: dataset[embedded_col].max() + 1\n",
        "    for embedded_col in ['Breed1','Breed2'] # aca vemos el valor maximo que hay en la columna Breed1 +1\n",
        "}\n",
        "numeric_columns = ['Age', 'Fee']"
      ],
      "execution_count": 0,
      "outputs": []
    },
    {
      "cell_type": "code",
      "metadata": {
        "id": "3Gm_W_EOMCxR",
        "colab_type": "code",
        "colab": {}
      },
      "source": [
        "def process_features(df):\n",
        "    direct_features = []\n",
        "\n",
        "    # Create one hot encodings\n",
        "    for one_hot_col, max_value in one_hot_columns.items():\n",
        "        direct_features.append(tf.keras.utils.to_categorical(df[one_hot_col] - 1, max_value)) # crea una matris de 1's y 0's con tantas columnas como clases\n",
        "\n",
        "\n",
        "        \n",
        "    # Concatenate all features that don't need further embedding into a single matrix.\n",
        "    features = {'direct_features': numpy.hstack(direct_features)} #pone todos los valores de forma de horizontal\n",
        "\n",
        "    # Create embedding columns - nothing to do here. We will use the zero embedding for OOV\n",
        "    for embedded_col in embedded_columns.keys():\n",
        "        features[embedded_col] = df[embedded_col].values\n",
        "\n",
        "    # Create and append numeric columns\n",
        "    # Don't forget to normalize!\n",
        "    for i in numeric_columns:\n",
        "        featu_nor = MinMaxScaler().fit_transform([df[i].values])\n",
        "        direct_features.append(featu_nor)\n",
        "\n",
        "    # Convert labels to one-hot encodings\n",
        "    targets = tf.keras.utils.to_categorical(df[target_col], nlabels)\n",
        "    \n",
        "    return features, targets"
      ],
      "execution_count": 0,
      "outputs": []
    },
    {
      "cell_type": "code",
      "metadata": {
        "id": "o1xnvx7SMCxU",
        "colab_type": "code",
        "colab": {}
      },
      "source": [
        "X_train, y_train = process_features(dataset)"
      ],
      "execution_count": 0,
      "outputs": []
    },
    {
      "cell_type": "code",
      "metadata": {
        "id": "Kg8EQfz3MCxY",
        "colab_type": "code",
        "outputId": "e6c75925-c4e2-4b30-e5a1-4dab8b0f5a30",
        "colab": {
          "base_uri": "https://localhost:8080/",
          "height": 136
        }
      },
      "source": [
        "y_train"
      ],
      "execution_count": 0,
      "outputs": [
        {
          "output_type": "execute_result",
          "data": {
            "text/plain": [
              "array([[0., 0., 0., 0., 1.],\n",
              "       [0., 0., 1., 0., 0.],\n",
              "       [0., 1., 0., 0., 0.],\n",
              "       ...,\n",
              "       [0., 0., 0., 1., 0.],\n",
              "       [0., 0., 0., 1., 0.],\n",
              "       [0., 0., 0., 0., 1.]], dtype=float32)"
            ]
          },
          "metadata": {
            "tags": []
          },
          "execution_count": 156
        }
      ]
    },
    {
      "cell_type": "code",
      "metadata": {
        "id": "Vc9NsopzA_uo",
        "colab_type": "code",
        "outputId": "49470211-68f3-4d4c-f158-612690cc44ee",
        "colab": {
          "base_uri": "https://localhost:8080/",
          "height": 170
        }
      },
      "source": [
        "X_train"
      ],
      "execution_count": 0,
      "outputs": [
        {
          "output_type": "execute_result",
          "data": {
            "text/plain": [
              "{'Breed1': array([307, 103, 266, ..., 266, 266, 307]),\n",
              " 'Breed2': array([  0,   0,   0, ..., 265,   0,   0]),\n",
              " 'direct_features': array([[0., 1., 0., ..., 1., 0., 0.],\n",
              "        [0., 1., 0., ..., 0., 0., 1.],\n",
              "        [0., 0., 1., ..., 1., 0., 0.],\n",
              "        ...,\n",
              "        [1., 0., 0., ..., 1., 0., 0.],\n",
              "        [1., 0., 0., ..., 0., 0., 0.],\n",
              "        [1., 0., 0., ..., 1., 0., 0.]], dtype=float32)}"
            ]
          },
          "metadata": {
            "tags": []
          },
          "execution_count": 157
        }
      ]
    },
    {
      "cell_type": "code",
      "metadata": {
        "id": "odjdtGPtMCxb",
        "colab_type": "code",
        "outputId": "d1cac3d4-325d-4139-e730-a2107ef60eb5",
        "colab": {
          "base_uri": "https://localhost:8080/",
          "height": 34
        }
      },
      "source": [
        "direct_features_input_shape = (X_train['direct_features'].shape[1],)\n",
        "direct_features_input_shape"
      ],
      "execution_count": 0,
      "outputs": [
        {
          "output_type": "execute_result",
          "data": {
            "text/plain": [
              "(36,)"
            ]
          },
          "metadata": {
            "tags": []
          },
          "execution_count": 158
        }
      ]
    },
    {
      "cell_type": "markdown",
      "metadata": {
        "id": "HLPoqL2mMCxe",
        "colab_type": "text"
      },
      "source": [
        "## Creando datasets iterables\n",
        "\n",
        "Como hemos visto, las redes neuronales se entrenan iterativamente con el algoritmo de *stochastic gradient descent*. Una forma de hacerlo es pasarle el dataset entero al método `fit` de un modelo de Keras, como vimos en la notebook anterior. Sin embargo, esto tiene algunas desventajas:\n",
        "\n",
        "* El dataset procesado debe entrar en memoria\n",
        "* El dataset procesado debe entrar en disco, lo cual no siempre es factible para encodings y datasets realmente grandes (ej: la wikipedia)\n",
        "* Una vez que la GPU ha terminado de procesar los datos, devuelve el control a la CPU (que estaba esperando sin hacer nada), y espera a que los nuevos datos son particionados.\n",
        "* No es posible usar cálculo distribuido en distintos file systems.\n",
        "\n",
        "Las dos primeras desventajas se solucionan preprocesando los datos en batches, y creando matrices anchas pero con pocas filas. Sin embargo, escribir este código manualmente puede ser complejo y en general lo hacemos de manera ineficiente. Solucionar las dos últimas es bastante más complicado y a la vez crítico. \n",
        "\n",
        "> **No importa qué tan buen hardware usemos para el entrenamiento del modelo, si seguimos limitados por un procesamiento de datos lineal y single core.**\n",
        "\n",
        "Por eso es recomendable utilizar las abstracciones nativas provistas por Tensorflow que paralelizan internamente muchas funciones.\n",
        "\n",
        "Para ello, crearemos un objeto `tf.data.Dataset` iterable a partir de nuestro dataframe de pandas y no tendremos que preocuparnos por la optimización de la GPU. Los datasets saben cómo crear batches, shuffles, aplicar funciones map y filter, etc. Además, podemos crear datasets a partir de diversas estructuras de datos, como numpy arrays o archivos. Pueden encontrar más información sobre los distintos tipos de Datasets en [este tutorial](https://towardsdatascience.com/how-to-use-dataset-in-tensorflow-c758ef9e4428)"
      ]
    },
    {
      "cell_type": "code",
      "metadata": {
        "id": "9BS3edQ0MCxe",
        "colab_type": "code",
        "colab": {}
      },
      "source": [
        "batch_size = 32\n",
        "# TODO shuffle the train dataset!\n",
        "train_ds = tf.data.Dataset.from_tensor_slices((X_train, y_train)).batch(batch_size)\n",
        "test_ds = tf.data.Dataset.from_tensor_slices(\n",
        "    process_features(dev_dataset)).batch(batch_size)"
      ],
      "execution_count": 0,
      "outputs": []
    },
    {
      "cell_type": "markdown",
      "metadata": {
        "id": "1ul-ZCzsMCxh",
        "colab_type": "text"
      },
      "source": [
        "Podemos ver qué es lo que tiene adentro en dataset obteniendo la primera operación."
      ]
    },
    {
      "cell_type": "code",
      "metadata": {
        "id": "ujt7lHB8MCxi",
        "colab_type": "code",
        "outputId": "252bb688-0a05-471a-ad60-38bdb4ecf885",
        "colab": {
          "base_uri": "https://localhost:8080/",
          "height": 850
        }
      },
      "source": [
        "x_batch, y_batch = next(iter(train_ds))\n",
        "x_batch, y_batch"
      ],
      "execution_count": 0,
      "outputs": [
        {
          "output_type": "execute_result",
          "data": {
            "text/plain": [
              "({'Breed1': <tf.Tensor: id=403460, shape=(32,), dtype=int64, numpy=\n",
              "  array([307, 103, 266, 152, 266, 266, 292, 307, 307, 307, 251, 109, 307,\n",
              "         266, 276, 266,  50, 266, 307, 307, 307, 266, 307, 307, 307, 307,\n",
              "         307, 307, 307, 307, 307, 307])>,\n",
              "  'Breed2': <tf.Tensor: id=403461, shape=(32,), dtype=int64, numpy=\n",
              "  array([  0,   0,   0, 307, 266,   0,   0, 307,   0,   0, 254, 307, 307,\n",
              "         266, 292,   0,   0,   0,   0, 128, 307,   0,   0,   0,   0,   0,\n",
              "           0,   0,   0, 307,   0,   0])>,\n",
              "  'direct_features': <tf.Tensor: id=403462, shape=(32, 36), dtype=float32, numpy=\n",
              "  array([[0., 1., 0., ..., 1., 0., 0.],\n",
              "         [0., 1., 0., ..., 0., 0., 1.],\n",
              "         [0., 0., 1., ..., 1., 0., 0.],\n",
              "         ...,\n",
              "         [1., 0., 0., ..., 1., 0., 0.],\n",
              "         [0., 0., 1., ..., 1., 0., 0.],\n",
              "         [0., 1., 0., ..., 1., 0., 0.]], dtype=float32)>},\n",
              " <tf.Tensor: id=403463, shape=(32, 5), dtype=float32, numpy=\n",
              " array([[0., 0., 0., 0., 1.],\n",
              "        [0., 0., 1., 0., 0.],\n",
              "        [0., 1., 0., 0., 0.],\n",
              "        [0., 0., 1., 0., 0.],\n",
              "        [0., 0., 0., 1., 0.],\n",
              "        [0., 0., 0., 1., 0.],\n",
              "        [0., 0., 1., 0., 0.],\n",
              "        [0., 0., 1., 0., 0.],\n",
              "        [0., 0., 0., 0., 1.],\n",
              "        [0., 0., 0., 1., 0.],\n",
              "        [0., 0., 0., 1., 0.],\n",
              "        [0., 0., 0., 1., 0.],\n",
              "        [0., 0., 0., 0., 1.],\n",
              "        [0., 0., 0., 0., 1.],\n",
              "        [0., 0., 0., 1., 0.],\n",
              "        [0., 1., 0., 0., 0.],\n",
              "        [0., 1., 0., 0., 0.],\n",
              "        [0., 0., 1., 0., 0.],\n",
              "        [0., 0., 1., 0., 0.],\n",
              "        [0., 0., 1., 0., 0.],\n",
              "        [0., 1., 0., 0., 0.],\n",
              "        [0., 0., 0., 1., 0.],\n",
              "        [0., 0., 0., 0., 1.],\n",
              "        [0., 0., 0., 1., 0.],\n",
              "        [0., 0., 0., 1., 0.],\n",
              "        [0., 1., 0., 0., 0.],\n",
              "        [0., 0., 0., 0., 1.],\n",
              "        [0., 0., 0., 0., 1.],\n",
              "        [0., 0., 0., 0., 1.],\n",
              "        [0., 1., 0., 0., 0.],\n",
              "        [0., 0., 0., 1., 0.],\n",
              "        [0., 0., 0., 1., 0.]], dtype=float32)>)"
            ]
          },
          "metadata": {
            "tags": []
          },
          "execution_count": 178
        }
      ]
    },
    {
      "cell_type": "markdown",
      "metadata": {
        "id": "8MQVUSy8MCxl",
        "colab_type": "text"
      },
      "source": [
        "## Construyendo el modelo\n",
        "\n",
        "Construimos el modelo, por ahora con sólo una capa oculta. Sin embargo, la complejidad más grande es combinar los features que tienen embeddings con los que no. Por cada tipo de feature, tenemos que agregar una capa de `Input`. Tener en cuenta que cada embedded feature se considera distinto.\n",
        "\n",
        "Como tenemos más de un input, tenemos que usar la API funcional de Keras en lugar de usar un modelo `Sequential`. La API funcional puede construir modelos más flexibles, ya que conectaremos explícitamente cada capa con su capa siguiente.\n",
        "\n",
        "Pueden encontrar otro ejemplo similar a este código en [esta notebook](https://www.kaggle.com/alexanderkireev/deep-learning-support-9663)."
      ]
    },
    {
      "cell_type": "code",
      "metadata": {
        "id": "rYuu2j64MCxm",
        "colab_type": "code",
        "outputId": "c844b769-ad5d-4f14-c8e2-ce964b61bf86",
        "colab": {
          "base_uri": "https://localhost:8080/",
          "height": 51
        }
      },
      "source": [
        "tf.keras.backend.clear_session()\n",
        "\n",
        "hidden_layer_size = 32\n",
        "\n",
        "# Add one input and one embedding for each embedded column\n",
        "embedding_layers = []\n",
        "inputs = []\n",
        "for embedded_col, max_value in embedded_columns.items():\n",
        "    input_layer = layers.Input(shape=(1,), name=embedded_col)\n",
        "    inputs.append(input_layer)\n",
        "    # Define the embedding layer\n",
        "    embedding_size = int(max_value / 4)\n",
        "    embedding_layers.append(\n",
        "        tf.squeeze(layers.Embedding(input_dim=max_value, output_dim=embedding_size)(input_layer), axis=-2))\n",
        "    print('Adding embedding of size {} for layer {}'.format(embedding_size, embedded_col))\n",
        "\n",
        "# Add the direct features already calculated\n",
        "direct_features_input = layers.Input(shape=direct_features_input_shape, name='direct_features')\n",
        "inputs.append(direct_features_input)\n",
        "    \n",
        "# Concatenate everything together\n",
        "features = layers.concatenate(embedding_layers + [direct_features_input])\n",
        "\n",
        "dense1 = layers.Dense(hidden_layer_size, activation='relu')(features)\n",
        "output_layer = layers.Dense(nlabels, activation='softmax')(dense1)\n",
        "\n",
        "model = models.Model(inputs=inputs, outputs=output_layer)"
      ],
      "execution_count": 0,
      "outputs": [
        {
          "output_type": "stream",
          "text": [
            "Adding embedding of size 77 for layer Breed1\n",
            "Adding embedding of size 77 for layer Breed2\n"
          ],
          "name": "stdout"
        }
      ]
    },
    {
      "cell_type": "markdown",
      "metadata": {
        "id": "J9PgPLKzMCxp",
        "colab_type": "text"
      },
      "source": [
        "### Métricas de evaluación\n",
        "\n",
        "Al igual que en la materia de aprendizaje supervisado, utilizaremos el accuracy como métrica, y agregaremos el score f1. Es opcional implementar esta predicción como un problema de regresión."
      ]
    },
    {
      "cell_type": "code",
      "metadata": {
        "id": "P6GBXCj3MCxp",
        "colab_type": "code",
        "outputId": "9c1ca129-967a-450f-9871-d9ccf1c17c4d",
        "colab": {
          "base_uri": "https://localhost:8080/",
          "height": 527
        }
      },
      "source": [
        "model.compile(loss='categorical_crossentropy', optimizer='adam',\n",
        "              metrics=['accuracy'])\n",
        "model.summary()"
      ],
      "execution_count": 0,
      "outputs": [
        {
          "output_type": "stream",
          "text": [
            "Model: \"model\"\n",
            "__________________________________________________________________________________________________\n",
            "Layer (type)                    Output Shape         Param #     Connected to                     \n",
            "==================================================================================================\n",
            "Breed1 (InputLayer)             [(None, 1)]          0                                            \n",
            "__________________________________________________________________________________________________\n",
            "Breed2 (InputLayer)             [(None, 1)]          0                                            \n",
            "__________________________________________________________________________________________________\n",
            "embedding (Embedding)           (None, 1, 77)        23716       Breed1[0][0]                     \n",
            "__________________________________________________________________________________________________\n",
            "embedding_1 (Embedding)         (None, 1, 77)        23716       Breed2[0][0]                     \n",
            "__________________________________________________________________________________________________\n",
            "tf_op_layer_Squeeze (TensorFlow [(None, 77)]         0           embedding[0][0]                  \n",
            "__________________________________________________________________________________________________\n",
            "tf_op_layer_Squeeze_1 (TensorFl [(None, 77)]         0           embedding_1[0][0]                \n",
            "__________________________________________________________________________________________________\n",
            "direct_features (InputLayer)    [(None, 36)]         0                                            \n",
            "__________________________________________________________________________________________________\n",
            "concatenate (Concatenate)       (None, 190)          0           tf_op_layer_Squeeze[0][0]        \n",
            "                                                                 tf_op_layer_Squeeze_1[0][0]      \n",
            "                                                                 direct_features[0][0]            \n",
            "__________________________________________________________________________________________________\n",
            "dense (Dense)                   (None, 32)           6112        concatenate[0][0]                \n",
            "__________________________________________________________________________________________________\n",
            "dense_1 (Dense)                 (None, 5)            165         dense[0][0]                      \n",
            "==================================================================================================\n",
            "Total params: 53,709\n",
            "Trainable params: 53,709\n",
            "Non-trainable params: 0\n",
            "__________________________________________________________________________________________________\n"
          ],
          "name": "stdout"
        }
      ]
    },
    {
      "cell_type": "markdown",
      "metadata": {
        "id": "gBKJkw1tMCxu",
        "colab_type": "text"
      },
      "source": [
        "## Entrenando el modelo\n",
        "\n",
        "Una vez que tenemos definido nuestro modelo, tenemos que entrenarlo. Sin embargo, para que los resultados sean útiles, tenemos que llevar un registro de qué hiperparámetros utilizamos y qué performance obtuvimos. Para eso, usaremos [MLFlow](https://mlflow.org/docs/latest/quickstart.html), una librería muy simple pero que permite sistematizar el registro de resultados.\n",
        "\n",
        "MLFlow soporta muchísimos casos de uso, pero por ahora sólo usaremos el más básico de todos para organizar el entrenamiento. Llamaremos *experiments* a los cambios grandes en la arquitectura, por ejemplo, si agregamos muchas capas nuevas o mecanismos de regularización. Llamaremos *runs* a las distintas ejecuciones de la misma arquitectura donde variamos sólo algunos hiperparámetros, como funciones de activación, cantidad de neuronas, tamaños de los embeddings, etc.\n",
        "\n",
        "Para acceder a la interfaz gráfica donde podemos ver las *run*, en una nueva terminal tenemos que ejecutar \n",
        "\n",
        "    $ mlflow ui -p PORT\n",
        "    \n",
        "Y abrir `https://localhost:PORT` en nuestro navegador (donde `PORT` es un número de puerto). Si estamos en un servidor, es probab, tendremos que abrir un nuevo puerto ssh a `PORT`."
      ]
    },
    {
      "cell_type": "code",
      "metadata": {
        "id": "0D8JaQRsG8mS",
        "colab_type": "code",
        "colab": {}
      },
      "source": [
        "#! pip install mlflow"
      ],
      "execution_count": 0,
      "outputs": []
    },
    {
      "cell_type": "code",
      "metadata": {
        "id": "JToc0xH0MCxv",
        "colab_type": "code",
        "colab": {}
      },
      "source": [
        "import mlflow"
      ],
      "execution_count": 0,
      "outputs": []
    },
    {
      "cell_type": "code",
      "metadata": {
        "id": "616-MH5eMCxy",
        "colab_type": "code",
        "outputId": "d7de1100-b9b7-46c6-f19c-45735640712a",
        "colab": {
          "base_uri": "https://localhost:8080/",
          "height": 1000
        }
      },
      "source": [
        "mlflow.set_experiment('very_base_approach')\n",
        "\n",
        "with mlflow.start_run(nested=True):\n",
        "    # Log model hiperparameters first\n",
        "    mlflow.log_param('hidden_layer_size', hidden_layer_size)\n",
        "    mlflow.log_param('embedded_columns', embedded_columns)\n",
        "    mlflow.log_param('one_hot_columns', one_hot_columns)\n",
        "    #mlflow.log_param('numerical_columns', numerical_columns)  # Not using these yet\n",
        "    \n",
        "    # Train\n",
        "    epochs = 100\n",
        "    history = model.fit(train_ds, epochs=epochs)\n",
        "    \n",
        "    # Evaluate\n",
        "    loss, accuracy = model.evaluate(test_ds)\n",
        "    print(\"*** Test loss: {} - accuracy: {}\".format(loss, accuracy))\n",
        "    mlflow.log_metric('epochs', epochs)\n",
        "    mlflow.log_metric('loss', loss)\n",
        "    mlflow.log_metric('accuracy', accuracy)"
      ],
      "execution_count": 0,
      "outputs": [
        {
          "output_type": "stream",
          "text": [
            "Epoch 1/100\n",
            "265/265 [==============================] - 2s 8ms/step - loss: 1.4600 - accuracy: 0.3068\n",
            "Epoch 2/100\n",
            "265/265 [==============================] - 1s 3ms/step - loss: 1.4054 - accuracy: 0.3523\n",
            "Epoch 3/100\n",
            "265/265 [==============================] - 1s 2ms/step - loss: 1.3898 - accuracy: 0.3665\n",
            "Epoch 4/100\n",
            "265/265 [==============================] - 1s 2ms/step - loss: 1.3784 - accuracy: 0.3770\n",
            "Epoch 5/100\n",
            "265/265 [==============================] - 1s 2ms/step - loss: 1.3683 - accuracy: 0.3824\n",
            "Epoch 6/100\n",
            "265/265 [==============================] - 1s 2ms/step - loss: 1.3588 - accuracy: 0.3898\n",
            "Epoch 7/100\n",
            "265/265 [==============================] - 1s 2ms/step - loss: 1.3502 - accuracy: 0.3924\n",
            "Epoch 8/100\n",
            "265/265 [==============================] - 1s 2ms/step - loss: 1.3421 - accuracy: 0.3934\n",
            "Epoch 9/100\n",
            "265/265 [==============================] - 1s 2ms/step - loss: 1.3346 - accuracy: 0.3969\n",
            "Epoch 10/100\n",
            "265/265 [==============================] - 1s 2ms/step - loss: 1.3274 - accuracy: 0.4005\n",
            "Epoch 11/100\n",
            "265/265 [==============================] - 1s 2ms/step - loss: 1.3209 - accuracy: 0.4040\n",
            "Epoch 12/100\n",
            "265/265 [==============================] - 1s 2ms/step - loss: 1.3147 - accuracy: 0.4071\n",
            "Epoch 13/100\n",
            "265/265 [==============================] - 1s 2ms/step - loss: 1.3089 - accuracy: 0.4098\n",
            "Epoch 14/100\n",
            "265/265 [==============================] - 1s 2ms/step - loss: 1.3035 - accuracy: 0.4144\n",
            "Epoch 15/100\n",
            "265/265 [==============================] - 1s 2ms/step - loss: 1.2980 - accuracy: 0.4175\n",
            "Epoch 16/100\n",
            "265/265 [==============================] - 1s 2ms/step - loss: 1.2931 - accuracy: 0.4204\n",
            "Epoch 17/100\n",
            "265/265 [==============================] - 1s 2ms/step - loss: 1.2884 - accuracy: 0.4247\n",
            "Epoch 18/100\n",
            "265/265 [==============================] - 1s 2ms/step - loss: 1.2842 - accuracy: 0.4279\n",
            "Epoch 19/100\n",
            "265/265 [==============================] - 1s 2ms/step - loss: 1.2803 - accuracy: 0.4306\n",
            "Epoch 20/100\n",
            "265/265 [==============================] - 1s 2ms/step - loss: 1.2766 - accuracy: 0.4328\n",
            "Epoch 21/100\n",
            "265/265 [==============================] - 1s 2ms/step - loss: 1.2731 - accuracy: 0.4360\n",
            "Epoch 22/100\n",
            "265/265 [==============================] - 1s 2ms/step - loss: 1.2697 - accuracy: 0.4357\n",
            "Epoch 23/100\n",
            "265/265 [==============================] - 1s 2ms/step - loss: 1.2664 - accuracy: 0.4371\n",
            "Epoch 24/100\n",
            "265/265 [==============================] - 1s 2ms/step - loss: 1.2635 - accuracy: 0.4378\n",
            "Epoch 25/100\n",
            "265/265 [==============================] - 1s 2ms/step - loss: 1.2605 - accuracy: 0.4410\n",
            "Epoch 26/100\n",
            "265/265 [==============================] - 1s 2ms/step - loss: 1.2573 - accuracy: 0.4430\n",
            "Epoch 27/100\n",
            "265/265 [==============================] - 1s 2ms/step - loss: 1.2548 - accuracy: 0.4447\n",
            "Epoch 28/100\n",
            "265/265 [==============================] - 1s 2ms/step - loss: 1.2522 - accuracy: 0.4445\n",
            "Epoch 29/100\n",
            "265/265 [==============================] - 1s 2ms/step - loss: 1.2496 - accuracy: 0.4445\n",
            "Epoch 30/100\n",
            "265/265 [==============================] - 1s 2ms/step - loss: 1.2473 - accuracy: 0.4463\n",
            "Epoch 31/100\n",
            "265/265 [==============================] - 1s 2ms/step - loss: 1.2449 - accuracy: 0.4468\n",
            "Epoch 32/100\n",
            "265/265 [==============================] - 1s 2ms/step - loss: 1.2424 - accuracy: 0.4488\n",
            "Epoch 33/100\n",
            "265/265 [==============================] - 1s 2ms/step - loss: 1.2403 - accuracy: 0.4496\n",
            "Epoch 34/100\n",
            "265/265 [==============================] - 1s 3ms/step - loss: 1.2383 - accuracy: 0.4507\n",
            "Epoch 35/100\n",
            "265/265 [==============================] - 1s 2ms/step - loss: 1.2360 - accuracy: 0.4515\n",
            "Epoch 36/100\n",
            "265/265 [==============================] - 1s 3ms/step - loss: 1.2341 - accuracy: 0.4528\n",
            "Epoch 37/100\n",
            "265/265 [==============================] - 1s 3ms/step - loss: 1.2326 - accuracy: 0.4542\n",
            "Epoch 38/100\n",
            "265/265 [==============================] - 1s 3ms/step - loss: 1.2306 - accuracy: 0.4561\n",
            "Epoch 39/100\n",
            "265/265 [==============================] - 1s 2ms/step - loss: 1.2290 - accuracy: 0.4566\n",
            "Epoch 40/100\n",
            "265/265 [==============================] - 1s 3ms/step - loss: 1.2273 - accuracy: 0.4574\n",
            "Epoch 41/100\n",
            "265/265 [==============================] - 1s 3ms/step - loss: 1.2257 - accuracy: 0.4575\n",
            "Epoch 42/100\n",
            "265/265 [==============================] - 1s 3ms/step - loss: 1.2244 - accuracy: 0.4584\n",
            "Epoch 43/100\n",
            "265/265 [==============================] - 1s 2ms/step - loss: 1.2229 - accuracy: 0.4585\n",
            "Epoch 44/100\n",
            "265/265 [==============================] - 1s 2ms/step - loss: 1.2213 - accuracy: 0.4588\n",
            "Epoch 45/100\n",
            "265/265 [==============================] - 1s 2ms/step - loss: 1.2199 - accuracy: 0.4592\n",
            "Epoch 46/100\n",
            "265/265 [==============================] - 1s 3ms/step - loss: 1.2183 - accuracy: 0.4615\n",
            "Epoch 47/100\n",
            "265/265 [==============================] - 1s 2ms/step - loss: 1.2168 - accuracy: 0.4612\n",
            "Epoch 48/100\n",
            "265/265 [==============================] - 1s 2ms/step - loss: 1.2153 - accuracy: 0.4639\n",
            "Epoch 49/100\n",
            "265/265 [==============================] - 1s 2ms/step - loss: 1.2139 - accuracy: 0.4649\n",
            "Epoch 50/100\n",
            "265/265 [==============================] - 1s 2ms/step - loss: 1.2128 - accuracy: 0.4647\n",
            "Epoch 51/100\n",
            "265/265 [==============================] - 1s 3ms/step - loss: 1.2114 - accuracy: 0.4659\n",
            "Epoch 52/100\n",
            "265/265 [==============================] - 1s 3ms/step - loss: 1.2100 - accuracy: 0.4664\n",
            "Epoch 53/100\n",
            "265/265 [==============================] - 1s 2ms/step - loss: 1.2088 - accuracy: 0.4662\n",
            "Epoch 54/100\n",
            "265/265 [==============================] - 1s 2ms/step - loss: 1.2077 - accuracy: 0.4666\n",
            "Epoch 55/100\n",
            "265/265 [==============================] - 1s 2ms/step - loss: 1.2064 - accuracy: 0.4676\n",
            "Epoch 56/100\n",
            "265/265 [==============================] - 1s 2ms/step - loss: 1.2050 - accuracy: 0.4672\n",
            "Epoch 57/100\n",
            "265/265 [==============================] - 1s 2ms/step - loss: 1.2040 - accuracy: 0.4670\n",
            "Epoch 58/100\n",
            "265/265 [==============================] - 1s 2ms/step - loss: 1.2030 - accuracy: 0.4696\n",
            "Epoch 59/100\n",
            "265/265 [==============================] - 1s 2ms/step - loss: 1.2019 - accuracy: 0.4709\n",
            "Epoch 60/100\n",
            "265/265 [==============================] - 1s 2ms/step - loss: 1.2009 - accuracy: 0.4704\n",
            "Epoch 61/100\n",
            "265/265 [==============================] - 1s 3ms/step - loss: 1.1998 - accuracy: 0.4706\n",
            "Epoch 62/100\n",
            "265/265 [==============================] - 1s 2ms/step - loss: 1.1987 - accuracy: 0.4717\n",
            "Epoch 63/100\n",
            "265/265 [==============================] - 1s 2ms/step - loss: 1.1978 - accuracy: 0.4730\n",
            "Epoch 64/100\n",
            "265/265 [==============================] - 1s 2ms/step - loss: 1.1969 - accuracy: 0.4738\n",
            "Epoch 65/100\n",
            "265/265 [==============================] - 1s 2ms/step - loss: 1.1960 - accuracy: 0.4735\n",
            "Epoch 66/100\n",
            "265/265 [==============================] - 1s 2ms/step - loss: 1.1946 - accuracy: 0.4749\n",
            "Epoch 67/100\n",
            "265/265 [==============================] - 1s 2ms/step - loss: 1.1938 - accuracy: 0.4762\n",
            "Epoch 68/100\n",
            "265/265 [==============================] - 1s 2ms/step - loss: 1.1930 - accuracy: 0.4741\n",
            "Epoch 69/100\n",
            "265/265 [==============================] - 1s 3ms/step - loss: 1.1918 - accuracy: 0.4757\n",
            "Epoch 70/100\n",
            "265/265 [==============================] - 1s 2ms/step - loss: 1.1912 - accuracy: 0.4771\n",
            "Epoch 71/100\n",
            "265/265 [==============================] - 1s 2ms/step - loss: 1.1905 - accuracy: 0.4756\n",
            "Epoch 72/100\n",
            "265/265 [==============================] - 1s 2ms/step - loss: 1.1895 - accuracy: 0.4757\n",
            "Epoch 73/100\n",
            "265/265 [==============================] - 1s 2ms/step - loss: 1.1887 - accuracy: 0.4767\n",
            "Epoch 74/100\n",
            "265/265 [==============================] - 1s 2ms/step - loss: 1.1879 - accuracy: 0.4788\n",
            "Epoch 75/100\n",
            "265/265 [==============================] - 1s 2ms/step - loss: 1.1870 - accuracy: 0.4774\n",
            "Epoch 76/100\n",
            "265/265 [==============================] - 1s 2ms/step - loss: 1.1865 - accuracy: 0.4784\n",
            "Epoch 77/100\n",
            "265/265 [==============================] - 1s 2ms/step - loss: 1.1857 - accuracy: 0.4793\n",
            "Epoch 78/100\n",
            "265/265 [==============================] - 1s 2ms/step - loss: 1.1847 - accuracy: 0.4775\n",
            "Epoch 79/100\n",
            "265/265 [==============================] - 1s 2ms/step - loss: 1.1842 - accuracy: 0.4769\n",
            "Epoch 80/100\n",
            "265/265 [==============================] - 1s 2ms/step - loss: 1.1830 - accuracy: 0.4770\n",
            "Epoch 81/100\n",
            "265/265 [==============================] - 1s 2ms/step - loss: 1.1828 - accuracy: 0.4787\n",
            "Epoch 82/100\n",
            "265/265 [==============================] - 1s 2ms/step - loss: 1.1820 - accuracy: 0.4777\n",
            "Epoch 83/100\n",
            "265/265 [==============================] - 1s 2ms/step - loss: 1.1815 - accuracy: 0.4763\n",
            "Epoch 84/100\n",
            "265/265 [==============================] - 1s 2ms/step - loss: 1.1808 - accuracy: 0.4761\n",
            "Epoch 85/100\n",
            "265/265 [==============================] - 1s 2ms/step - loss: 1.1802 - accuracy: 0.4758\n",
            "Epoch 86/100\n",
            "265/265 [==============================] - 1s 2ms/step - loss: 1.1800 - accuracy: 0.4754\n",
            "Epoch 87/100\n",
            "265/265 [==============================] - 1s 2ms/step - loss: 1.1795 - accuracy: 0.4775\n",
            "Epoch 88/100\n",
            "265/265 [==============================] - 1s 2ms/step - loss: 1.1787 - accuracy: 0.4782\n",
            "Epoch 89/100\n",
            "265/265 [==============================] - 1s 2ms/step - loss: 1.1782 - accuracy: 0.4770\n",
            "Epoch 90/100\n",
            "265/265 [==============================] - 1s 2ms/step - loss: 1.1776 - accuracy: 0.4771\n",
            "Epoch 91/100\n",
            "265/265 [==============================] - 1s 2ms/step - loss: 1.1773 - accuracy: 0.4780\n",
            "Epoch 92/100\n",
            "265/265 [==============================] - 1s 2ms/step - loss: 1.1770 - accuracy: 0.4777\n",
            "Epoch 93/100\n",
            "265/265 [==============================] - 1s 2ms/step - loss: 1.1763 - accuracy: 0.4775\n",
            "Epoch 94/100\n",
            "265/265 [==============================] - 1s 2ms/step - loss: 1.1758 - accuracy: 0.4774\n",
            "Epoch 95/100\n",
            "265/265 [==============================] - 1s 2ms/step - loss: 1.1753 - accuracy: 0.4794\n",
            "Epoch 96/100\n",
            "265/265 [==============================] - 1s 2ms/step - loss: 1.1751 - accuracy: 0.4786\n",
            "Epoch 97/100\n",
            "265/265 [==============================] - 1s 2ms/step - loss: 1.1745 - accuracy: 0.4794\n",
            "Epoch 98/100\n",
            "265/265 [==============================] - 1s 2ms/step - loss: 1.1738 - accuracy: 0.4787\n",
            "Epoch 99/100\n",
            "265/265 [==============================] - 1s 2ms/step - loss: 1.1736 - accuracy: 0.4800\n",
            "Epoch 100/100\n",
            "265/265 [==============================] - 1s 2ms/step - loss: 1.1733 - accuracy: 0.4799\n",
            "67/67 [==============================] - 0s 3ms/step - loss: 1.7691 - accuracy: 0.3321\n",
            "*** Test loss: 1.7691300360124502 - accuracy: 0.3320736885070801\n"
          ],
          "name": "stdout"
        }
      ]
    },
    {
      "cell_type": "markdown",
      "metadata": {
        "id": "eu4tNmIDMCx2",
        "colab_type": "text"
      },
      "source": [
        "## Evaluando del modelo\n",
        "\n",
        "Además de tener en cuenta las métricas de performance del modelo, es importante mirar los resultados obtenidos y controlar que el modelo efectivamente está aprendiendo algo relevante."
      ]
    },
    {
      "cell_type": "code",
      "metadata": {
        "id": "xCC0-O6YMCx2",
        "colab_type": "code",
        "outputId": "06dfed99-62ae-4f6e-9382-ee908e2259dc",
        "colab": {
          "base_uri": "https://localhost:8080/",
          "height": 283
        }
      },
      "source": [
        "predictions = numpy.argmax(model.predict(test_ds), axis=1)\n",
        "seaborn.countplot(predictions)"
      ],
      "execution_count": 0,
      "outputs": [
        {
          "output_type": "execute_result",
          "data": {
            "text/plain": [
              "<matplotlib.axes._subplots.AxesSubplot at 0x7f9c7c6aff60>"
            ]
          },
          "metadata": {
            "tags": []
          },
          "execution_count": 190
        },
        {
          "output_type": "display_data",
          "data": {
            "image/png": "[encoded data removed]",
            "text/plain": [
              "<Figure size 432x288 with 1 Axes>"
            ]
          },
          "metadata": {
            "tags": []
          }
        }
      ]
    },
    {
      "cell_type": "code",
      "metadata": {
        "id": "kybPD411FHlE",
        "colab_type": "code",
        "colab": {}
      },
      "source": [
        "import pandas as pd\n",
        "import numpy as np\n",
        "con = pd.DataFrame(np.arange(1,2118),columns=['PID'])"
      ],
      "execution_count": 0,
      "outputs": []
    },
    {
      "cell_type": "code",
      "metadata": {
        "id": "yTtuwJEcfNGL",
        "colab_type": "code",
        "colab": {}
      },
      "source": [
        "con['AdoptionSpeed'] = predictions"
      ],
      "execution_count": 0,
      "outputs": []
    },
    {
      "cell_type": "code",
      "metadata": {
        "id": "_EdVVosdfPvY",
        "colab_type": "code",
        "colab": {}
      },
      "source": [
        "def process_features2(df):\n",
        "    direct_features = []\n",
        "\n",
        "    # Create one hot encodings\n",
        "    for one_hot_col, max_value in one_hot_columns.items():\n",
        "        direct_features.append(tf.keras.utils.to_categorical(df[one_hot_col] - 1, max_value)) # crea una matris de 1's y 0's con tantas columnas como clases\n",
        "\n",
        "    # Create and append numeric columns\n",
        "    # Don't forget to normalize!\n",
        "    # ....\n",
        "    \n",
        "    # Concatenate all features that don't need further embedding into a single matrix.\n",
        "    features = {'direct_features': numpy.hstack(direct_features)} #pone todos los valores de forma de horizontal\n",
        "\n",
        "    # Create embedding columns - nothing to do here. We will use the zero embedding for OOV\n",
        "    for embedded_col in embedded_columns.keys():\n",
        "        features[embedded_col] = df[embedded_col].values\n",
        "\n",
        "    # Convert labels to one-hot encodings\n",
        "    #targets = tf.keras.utils.to_categorical(df[target_col], nlabels)\n",
        "    \n",
        "    return features#, targets"
      ],
      "execution_count": 0,
      "outputs": []
    },
    {
      "cell_type": "code",
      "metadata": {
        "id": "GenLOAAsfX9F",
        "colab_type": "code",
        "colab": {}
      },
      "source": [
        "prub = pd.read_csv(os.path.join(DATA_DIRECTORY, 'test.csv'))\n",
        "prub_ds = tf.data.Dataset.from_tensor_slices(process_features2(prub)).batch(batch_size)"
      ],
      "execution_count": 0,
      "outputs": []
    },
    {
      "cell_type": "code",
      "metadata": {
        "id": "Xjd0cqS1kSAQ",
        "colab_type": "code",
        "colab": {}
      },
      "source": [
        "\n",
        "predict = numpy.argmax(model.predict(prub_ds), axis=1)\n",
        "\n",
        "con = pd.DataFrame(prub.PID,columns=['PID'])"
      ],
      "execution_count": 0,
      "outputs": []
    },
    {
      "cell_type": "code",
      "metadata": {
        "id": "3EZiryhFj3Yp",
        "colab_type": "code",
        "colab": {}
      },
      "source": [
        "con['AdoptionSpeed'] = predict"
      ],
      "execution_count": 0,
      "outputs": []
    },
    {
      "cell_type": "code",
      "metadata": {
        "id": "MjwZxWKrlcdj",
        "colab_type": "code",
        "colab": {}
      },
      "source": [
        "con.set_index('PID',inplace=True)"
      ],
      "execution_count": 0,
      "outputs": []
    },
    {
      "cell_type": "code",
      "metadata": {
        "id": "3eEznz86llfO",
        "colab_type": "code",
        "colab": {}
      },
      "source": [
        "con.to_csv('prediction.csv')"
      ],
      "execution_count": 0,
      "outputs": []
    },
    {
      "cell_type": "code",
      "metadata": {
        "id": "X_NpfePbnotm",
        "colab_type": "code",
        "outputId": "3a6a7c9b-71c7-4330-fa1a-1e4a8269f98b",
        "colab": {
          "base_uri": "https://localhost:8080/",
          "height": 51
        }
      },
      "source": [
        "con.iloc[3121]"
      ],
      "execution_count": 0,
      "outputs": [
        {
          "output_type": "execute_result",
          "data": {
            "text/plain": [
              "AdoptionSpeed    4\n",
              "Name: 10746, dtype: int64"
            ]
          },
          "metadata": {
            "tags": []
          },
          "execution_count": 36
        }
      ]
    },
    {
      "cell_type": "code",
      "metadata": {
        "id": "UlZiv1-qIZga",
        "colab_type": "code",
        "outputId": "f93a7a0e-82b3-4008-ffc6-d2c360b37afe",
        "colab": {
          "base_uri": "https://localhost:8080/",
          "height": 297
        }
      },
      "source": [
        "seaborn.countplot(con.AdoptionSpeed)"
      ],
      "execution_count": 0,
      "outputs": [
        {
          "output_type": "execute_result",
          "data": {
            "text/plain": [
              "<matplotlib.axes._subplots.AxesSubplot at 0x7f9c7a105390>"
            ]
          },
          "metadata": {
            "tags": []
          },
          "execution_count": 39
        },
        {
          "output_type": "display_data",
          "data": {
            "image/png": "[encoded data removed]",
            "text/plain": [
              "<Figure size 432x288 with 1 Axes>"
            ]
          },
          "metadata": {
            "tags": []
          }
        }
      ]
    },
    {
      "cell_type": "code",
      "metadata": {
        "id": "2EMK57t_pGNN",
        "colab_type": "code",
        "outputId": "acb1ab4e-1721-41fb-84f1-3059438f62ea",
        "colab": {
          "base_uri": "https://localhost:8080/",
          "height": 221
        }
      },
      "source": [
        "prub.PID"
      ],
      "execution_count": 0,
      "outputs": [
        {
          "output_type": "execute_result",
          "data": {
            "text/plain": [
              "0           1\n",
              "1           2\n",
              "2           7\n",
              "3           9\n",
              "4          11\n",
              "        ...  \n",
              "4406    14984\n",
              "4407    14986\n",
              "4408    14987\n",
              "4409    14989\n",
              "4410    14990\n",
              "Name: PID, Length: 4411, dtype: int64"
            ]
          },
          "metadata": {
            "tags": []
          },
          "execution_count": 37
        }
      ]
    },
    {
      "cell_type": "code",
      "metadata": {
        "id": "AIxcp0Rbprzl",
        "colab_type": "code",
        "colab": {}
      },
      "source": [
        ""
      ],
      "execution_count": 0,
      "outputs": []
    }
  ]
}