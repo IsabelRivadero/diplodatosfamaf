{
 "cells": [
  {
   "cell_type": "markdown",
   "metadata": {
    "colab_type": "text",
    "id": "JelciqKvKcJZ"
   },
   "source": [
    "# DiploDatos 2019 - Análisis de Series Temporales\n",
    "\n",
    "## Integrante\n",
    "\n",
    "| Nombre | e-mail |\n",
    "|------|------|\n",
    "|Rivadero, Isabel | isarivadero@hotmail.com |\n",
    "\n",
    "## Práctico de Aprendizaje supervisado y no supervisado\n",
    "Continuo trabajando sobre aprendizaje automático: sobre modelos supervisados y no supervisados. Diseño e implemento algunos modelos y defino métricas para ver como performan."
   ]
  },
  {
   "cell_type": "code",
   "execution_count": 1,
   "metadata": {
    "colab": {
     "base_uri": "https://localhost:8080/",
     "height": 17
    },
    "colab_type": "code",
    "id": "s07wG51bKcJa",
    "outputId": "5fc7b8e8-5419-4a91-afba-dec299c9d3c5"
   },
   "outputs": [
    {
     "data": {
      "text/html": [
       "<style>.container { width:90% !important; }</style>"
      ],
      "text/plain": [
       "<IPython.core.display.HTML object>"
      ]
     },
     "metadata": {},
     "output_type": "display_data"
    }
   ],
   "source": [
    "### Aumentar el ancho del notebook\n",
    "from IPython.core.display import display, HTML\n",
    "display(HTML(\"<style>.container { width:90% !important; }</style>\"))"
   ]
  },
  {
   "cell_type": "code",
   "execution_count": 2,
   "metadata": {
    "colab": {},
    "colab_type": "code",
    "id": "cMkA9AqCKcJf"
   },
   "outputs": [],
   "source": [
    "%matplotlib inline\n",
    "import numpy as np\n",
    "import pandas as pd\n",
    "import seaborn as sns\n",
    "import matplotlib.pyplot as plt\n",
    "from sklearn.model_selection import train_test_split\n",
    "from sklearn.pipeline import Pipeline\n",
    "from sklearn.metrics import accuracy_score, precision_score, recall_score, f1_score\n",
    "from sklearn.preprocessing import MinMaxScaler\n",
    "\n",
    "plt.rcParams['figure.figsize'] = (12,8)\n",
    "\n",
    "holidays = './holidays.csv'\n",
    "cols = ['service',\n",
    "        'sender_zipcode',\n",
    "        'receiver_zipcode',\n",
    "        'sender_state',\n",
    "        'receiver_state',\n",
    "        'shipment_type',\n",
    "        'quantity',\n",
    "        'status',\n",
    "        'date_created',\n",
    "        'date_sent',\n",
    "        'date_visit',\n",
    "        'target']\n",
    "data_path = './shipments_BR_201903.csv'\n"
   ]
  },
  {
   "cell_type": "code",
   "execution_count": 3,
   "metadata": {
    "colab": {},
    "colab_type": "code",
    "id": "Oxj8RfP7KcJj"
   },
   "outputs": [],
   "source": [
    "def ontimesv(y_test, y_pred):\n",
    "    ontime_sv= (y_pred == y_test)\n",
    "    return np.sum(ontime_sv) / np.size(y_test)\n",
    "\n",
    "def delaysv(y_test, y_pred):\n",
    "    delay_sv = (y_pred < y_test)\n",
    "    return np.sum(delay_sv) / np.size(y_test)\n",
    "\n",
    "def earlysv(y_test, y_pred):\n",
    "    early_sv= (y_test < y_pred)\n",
    "    return np.sum(early_sv) / np.size(y_test)\n",
    "\n",
    "def offset_window(y_test, lower_bound, upper_bound, length):\n",
    "    offset_msk = ((upper_bound - lower_bound) == length)\n",
    "    return np.sum(offset_msk) / np.size(offset_msk)\n",
    "\n",
    "\n",
    "def avg_speed(y_test, lower_bound, upper_bound):\n",
    "    return lower_bound.mean()\n",
    "\n",
    "\n",
    "def avg_offset(y_test, lower_bound, upper_bound):\n",
    "    return (upper_bound - lower_bound).mean()\n",
    "\n",
    "def get_metrics(y_test, speed, offset):\n",
    "    lower_bound = speed\n",
    "    upper_bound = speed + offset\n",
    "    metrics = {'on_time': ontime(y_test, lower_bound, upper_bound).astype(float).round(3),\n",
    "               'delay': delay(y_test, lower_bound, upper_bound).astype(float).round(3),\n",
    "               'early': early(y_test, lower_bound, upper_bound).astype(float).round(3),\n",
    "               'offset_0': offset_window(y_test, lower_bound, upper_bound, 0).astype(float).round(3),\n",
    "               'offset_1': offset_window(y_test, lower_bound, upper_bound, 1).astype(float).round(3),\n",
    "               'offset_2': offset_window(y_test, lower_bound, upper_bound, 2).astype(float).round(3),\n",
    "               'avg_speed': avg_speed(y_test, lower_bound, upper_bound).astype(float).round(3),\n",
    "               'avg_offset': avg_offset(y_test, lower_bound, upper_bound).astype(float).round(3),\n",
    "               }\n",
    "\n",
    "    return metrics"
   ]
  },
  {
   "cell_type": "markdown",
   "metadata": {
    "colab_type": "text",
    "id": "JvwLfj8zKcJn"
   },
   "source": [
    "#### Referencia de las columnas\n",
    "* **service**: Identificador unico que corresponde a un tipo de servicio de un correo en particular.\n",
    "* **sender_zipcode:** Código postal de quien envía el paquete (usualmente el vendedor).\n",
    "* **receiver_zipcode:** Código postal de quien recibe el paquete (usualmente el comprador).\n",
    "* **sender_state:** Nombre abreviado del estado de quien envía el paquete.\n",
    "* **receiver_state:** Nombre abreviado del estado de quien recibe el paquete.\n",
    "* **quantity:** Cantidad de items que tiene dentro el paquete.\n",
    "* **status:** Estado final del envío.\n",
    "* **date_created:** Fecha de compra de el o los items.\n",
    "* **date_sent:** Fecha en que el correo recibe el paquete.\n",
    "* **date_visit:** Fecha en que el correo entrega el paquete.\n",
    "* **target:** Cantidad de dias hábiles que tardó el correo en entregar el paquete desde que lo recibe."
   ]
  },
  {
   "cell_type": "code",
   "execution_count": 4,
   "metadata": {
    "colab": {
     "base_uri": "https://localhost:8080/",
     "height": 34
    },
    "colab_type": "code",
    "id": "QsFMdNdbKcJo",
    "outputId": "248f7018-7b14-4b9d-c244-9246867dd76b"
   },
   "outputs": [
    {
     "data": {
      "text/plain": [
       "(1000000, 12)"
      ]
     },
     "execution_count": 4,
     "metadata": {},
     "output_type": "execute_result"
    }
   ],
   "source": [
    "df = pd.read_csv(data_path, usecols=cols)\n",
    "df.shape"
   ]
  },
  {
   "cell_type": "code",
   "execution_count": 5,
   "metadata": {
    "colab": {
     "base_uri": "https://localhost:8080/",
     "height": 206
    },
    "colab_type": "code",
    "id": "k1qBArqkKcJt",
    "outputId": "b13fe44c-7886-414a-ecf2-efcf1217ac10"
   },
   "outputs": [
    {
     "data": {
      "text/html": [
       "<div>\n",
       "<style scoped>\n",
       "    .dataframe tbody tr th:only-of-type {\n",
       "        vertical-align: middle;\n",
       "    }\n",
       "\n",
       "    .dataframe tbody tr th {\n",
       "        vertical-align: top;\n",
       "    }\n",
       "\n",
       "    .dataframe thead th {\n",
       "        text-align: right;\n",
       "    }\n",
       "</style>\n",
       "<table border=\"1\" class=\"dataframe\">\n",
       "  <thead>\n",
       "    <tr style=\"text-align: right;\">\n",
       "      <th></th>\n",
       "      <th>sender_state</th>\n",
       "      <th>sender_zipcode</th>\n",
       "      <th>receiver_state</th>\n",
       "      <th>receiver_zipcode</th>\n",
       "      <th>shipment_type</th>\n",
       "      <th>quantity</th>\n",
       "      <th>service</th>\n",
       "      <th>status</th>\n",
       "      <th>date_created</th>\n",
       "      <th>date_sent</th>\n",
       "      <th>date_visit</th>\n",
       "      <th>target</th>\n",
       "    </tr>\n",
       "  </thead>\n",
       "  <tbody>\n",
       "    <tr>\n",
       "      <th>0</th>\n",
       "      <td>SP</td>\n",
       "      <td>3005</td>\n",
       "      <td>SP</td>\n",
       "      <td>5409</td>\n",
       "      <td>express</td>\n",
       "      <td>1</td>\n",
       "      <td>0</td>\n",
       "      <td>done</td>\n",
       "      <td>2019-03-04 00:00:00</td>\n",
       "      <td>2019-03-05 13:24:00</td>\n",
       "      <td>2019-03-07 18:01:00</td>\n",
       "      <td>2</td>\n",
       "    </tr>\n",
       "    <tr>\n",
       "      <th>1</th>\n",
       "      <td>SP</td>\n",
       "      <td>17052</td>\n",
       "      <td>MG</td>\n",
       "      <td>37750</td>\n",
       "      <td>standard</td>\n",
       "      <td>1</td>\n",
       "      <td>1</td>\n",
       "      <td>done</td>\n",
       "      <td>2019-03-19 00:00:00</td>\n",
       "      <td>2019-03-20 14:44:00</td>\n",
       "      <td>2019-03-27 10:21:00</td>\n",
       "      <td>5</td>\n",
       "    </tr>\n",
       "    <tr>\n",
       "      <th>2</th>\n",
       "      <td>SP</td>\n",
       "      <td>2033</td>\n",
       "      <td>SP</td>\n",
       "      <td>11040</td>\n",
       "      <td>express</td>\n",
       "      <td>1</td>\n",
       "      <td>0</td>\n",
       "      <td>done</td>\n",
       "      <td>2019-02-18 00:00:00</td>\n",
       "      <td>2019-02-21 15:08:00</td>\n",
       "      <td>2019-02-28 18:19:00</td>\n",
       "      <td>5</td>\n",
       "    </tr>\n",
       "    <tr>\n",
       "      <th>3</th>\n",
       "      <td>SP</td>\n",
       "      <td>13900</td>\n",
       "      <td>SP</td>\n",
       "      <td>18500</td>\n",
       "      <td>express</td>\n",
       "      <td>1</td>\n",
       "      <td>0</td>\n",
       "      <td>done</td>\n",
       "      <td>2019-03-09 00:00:00</td>\n",
       "      <td>2019-03-11 15:48:00</td>\n",
       "      <td>2019-03-12 13:33:00</td>\n",
       "      <td>1</td>\n",
       "    </tr>\n",
       "    <tr>\n",
       "      <th>4</th>\n",
       "      <td>SP</td>\n",
       "      <td>4361</td>\n",
       "      <td>RS</td>\n",
       "      <td>96810</td>\n",
       "      <td>express</td>\n",
       "      <td>1</td>\n",
       "      <td>0</td>\n",
       "      <td>done</td>\n",
       "      <td>2019-03-08 00:00:00</td>\n",
       "      <td>2019-03-12 08:19:00</td>\n",
       "      <td>2019-03-16 08:24:00</td>\n",
       "      <td>4</td>\n",
       "    </tr>\n",
       "  </tbody>\n",
       "</table>\n",
       "</div>"
      ],
      "text/plain": [
       "  sender_state  sender_zipcode receiver_state  receiver_zipcode shipment_type  \\\n",
       "0           SP            3005             SP              5409       express   \n",
       "1           SP           17052             MG             37750      standard   \n",
       "2           SP            2033             SP             11040       express   \n",
       "3           SP           13900             SP             18500       express   \n",
       "4           SP            4361             RS             96810       express   \n",
       "\n",
       "   quantity  service status         date_created            date_sent  \\\n",
       "0         1        0   done  2019-03-04 00:00:00  2019-03-05 13:24:00   \n",
       "1         1        1   done  2019-03-19 00:00:00  2019-03-20 14:44:00   \n",
       "2         1        0   done  2019-02-18 00:00:00  2019-02-21 15:08:00   \n",
       "3         1        0   done  2019-03-09 00:00:00  2019-03-11 15:48:00   \n",
       "4         1        0   done  2019-03-08 00:00:00  2019-03-12 08:19:00   \n",
       "\n",
       "            date_visit  target  \n",
       "0  2019-03-07 18:01:00       2  \n",
       "1  2019-03-27 10:21:00       5  \n",
       "2  2019-02-28 18:19:00       5  \n",
       "3  2019-03-12 13:33:00       1  \n",
       "4  2019-03-16 08:24:00       4  "
      ]
     },
     "execution_count": 5,
     "metadata": {},
     "output_type": "execute_result"
    }
   ],
   "source": [
    "df.head()"
   ]
  },
  {
   "cell_type": "code",
   "execution_count": 6,
   "metadata": {
    "colab": {},
    "colab_type": "code",
    "id": "le78dzPiKcJx"
   },
   "outputs": [],
   "source": [
    "# set seed for reproducibility\n",
    "np.random.seed(0)"
   ]
  },
  {
   "cell_type": "code",
   "execution_count": 7,
   "metadata": {
    "colab": {
     "base_uri": "https://localhost:8080/",
     "height": 243
    },
    "colab_type": "code",
    "id": "C6g55S_SKcJ1",
    "outputId": "b41d6988-7382-400f-f42c-9582fc80c30a"
   },
   "outputs": [
    {
     "data": {
      "text/plain": [
       "sender_state        object\n",
       "sender_zipcode       int64\n",
       "receiver_state      object\n",
       "receiver_zipcode     int64\n",
       "shipment_type       object\n",
       "quantity             int64\n",
       "service              int64\n",
       "status              object\n",
       "date_created        object\n",
       "date_sent           object\n",
       "date_visit          object\n",
       "target               int64\n",
       "dtype: object"
      ]
     },
     "execution_count": 7,
     "metadata": {},
     "output_type": "execute_result"
    }
   ],
   "source": [
    "df.dtypes"
   ]
  },
  {
   "cell_type": "markdown",
   "metadata": {
    "colab_type": "text",
    "id": "eWttFbhvKcJ5"
   },
   "source": [
    "Como las fechas estan como tipo objeto no voy a poder operar entonces paso a tipo fecha"
   ]
  },
  {
   "cell_type": "code",
   "execution_count": 8,
   "metadata": {
    "colab": {},
    "colab_type": "code",
    "id": "n6e7WNL0KcJ6"
   },
   "outputs": [],
   "source": [
    "df1= df.copy()"
   ]
  },
  {
   "cell_type": "code",
   "execution_count": 9,
   "metadata": {
    "colab": {},
    "colab_type": "code",
    "id": "KHkWWSUiKcJ-"
   },
   "outputs": [],
   "source": [
    "df1['date_created']= df1.date_created.astype('datetime64')"
   ]
  },
  {
   "cell_type": "code",
   "execution_count": 10,
   "metadata": {
    "colab": {},
    "colab_type": "code",
    "id": "BFWB1qL5KcKD"
   },
   "outputs": [],
   "source": [
    "df1['date_sent']= df1.date_sent.astype('datetime64')"
   ]
  },
  {
   "cell_type": "code",
   "execution_count": 11,
   "metadata": {
    "colab": {},
    "colab_type": "code",
    "id": "eQU9co-DKcKI"
   },
   "outputs": [],
   "source": [
    "df1['date_visit']= df1.date_visit.astype('datetime64')"
   ]
  },
  {
   "cell_type": "markdown",
   "metadata": {
    "colab_type": "text",
    "id": "SQTxEElDKcKN"
   },
   "source": [
    "**Eliminamos datos inconsistentes:**\n",
    "\n",
    "Aplicamos curacion y limpieza de datos"
   ]
  },
  {
   "cell_type": "code",
   "execution_count": 12,
   "metadata": {
    "colab": {
     "base_uri": "https://localhost:8080/",
     "height": 34
    },
    "colab_type": "code",
    "id": "w3y3w22_KcKO",
    "outputId": "802d6770-caf9-419e-f25a-ab8c6472ae29"
   },
   "outputs": [
    {
     "data": {
      "text/plain": [
       "(999827, 12)"
      ]
     },
     "execution_count": 12,
     "metadata": {},
     "output_type": "execute_result"
    }
   ],
   "source": [
    "df1 = df1[(df1['date_sent'] <= df1['date_visit']) & (df1['date_created'] <= df1['date_sent']) & (df1['date_created'] <= df1['date_visit'])]\n",
    "df1.shape"
   ]
  },
  {
   "cell_type": "markdown",
   "metadata": {
    "colab_type": "text",
    "id": "qaIZdv54KcKS"
   },
   "source": [
    "## Preparación de los features\n",
    "#### Diseñar un pipeline con las siguientes transformaciones:\n",
    "1- Recortar el último dígito de los zip codes\n"
   ]
  },
  {
   "cell_type": "code",
   "execution_count": 13,
   "metadata": {
    "colab": {},
    "colab_type": "code",
    "id": "b2n-iNhPKcKT"
   },
   "outputs": [],
   "source": [
    "df1['sender_zipcode']=df1['sender_zipcode']/10\n",
    "df1['sender_zipcode'] =df1['sender_zipcode'].astype('int32')\n",
    "df1['receiver_zipcode']=df1['receiver_zipcode']/10\n",
    "df1['receiver_zipcode'] =df1['receiver_zipcode'].astype('int32')"
   ]
  },
  {
   "cell_type": "code",
   "execution_count": 14,
   "metadata": {
    "colab": {
     "base_uri": "https://localhost:8080/",
     "height": 243
    },
    "colab_type": "code",
    "id": "pVpDUVJfKcKW",
    "outputId": "9e41a829-79c7-4130-9f5f-b8198ad1dd8b"
   },
   "outputs": [
    {
     "data": {
      "text/plain": [
       "sender_state                object\n",
       "sender_zipcode               int32\n",
       "receiver_state              object\n",
       "receiver_zipcode             int32\n",
       "shipment_type               object\n",
       "quantity                     int64\n",
       "service                      int64\n",
       "status                      object\n",
       "date_created        datetime64[ns]\n",
       "date_sent           datetime64[ns]\n",
       "date_visit          datetime64[ns]\n",
       "target                       int64\n",
       "dtype: object"
      ]
     },
     "execution_count": 14,
     "metadata": {},
     "output_type": "execute_result"
    }
   ],
   "source": [
    "df1.dtypes"
   ]
  },
  {
   "cell_type": "code",
   "execution_count": 15,
   "metadata": {
    "colab": {
     "base_uri": "https://localhost:8080/",
     "height": 206
    },
    "colab_type": "code",
    "id": "4Xo4qo4uKcKZ",
    "outputId": "270b9b6f-1d95-4349-9e19-9bba4e8255c3"
   },
   "outputs": [
    {
     "data": {
      "text/html": [
       "<div>\n",
       "<style scoped>\n",
       "    .dataframe tbody tr th:only-of-type {\n",
       "        vertical-align: middle;\n",
       "    }\n",
       "\n",
       "    .dataframe tbody tr th {\n",
       "        vertical-align: top;\n",
       "    }\n",
       "\n",
       "    .dataframe thead th {\n",
       "        text-align: right;\n",
       "    }\n",
       "</style>\n",
       "<table border=\"1\" class=\"dataframe\">\n",
       "  <thead>\n",
       "    <tr style=\"text-align: right;\">\n",
       "      <th></th>\n",
       "      <th>sender_state</th>\n",
       "      <th>sender_zipcode</th>\n",
       "      <th>receiver_state</th>\n",
       "      <th>receiver_zipcode</th>\n",
       "      <th>shipment_type</th>\n",
       "      <th>quantity</th>\n",
       "      <th>service</th>\n",
       "      <th>status</th>\n",
       "      <th>date_created</th>\n",
       "      <th>date_sent</th>\n",
       "      <th>date_visit</th>\n",
       "      <th>target</th>\n",
       "    </tr>\n",
       "  </thead>\n",
       "  <tbody>\n",
       "    <tr>\n",
       "      <th>0</th>\n",
       "      <td>SP</td>\n",
       "      <td>300</td>\n",
       "      <td>SP</td>\n",
       "      <td>540</td>\n",
       "      <td>express</td>\n",
       "      <td>1</td>\n",
       "      <td>0</td>\n",
       "      <td>done</td>\n",
       "      <td>2019-03-04</td>\n",
       "      <td>2019-03-05 13:24:00</td>\n",
       "      <td>2019-03-07 18:01:00</td>\n",
       "      <td>2</td>\n",
       "    </tr>\n",
       "    <tr>\n",
       "      <th>1</th>\n",
       "      <td>SP</td>\n",
       "      <td>1705</td>\n",
       "      <td>MG</td>\n",
       "      <td>3775</td>\n",
       "      <td>standard</td>\n",
       "      <td>1</td>\n",
       "      <td>1</td>\n",
       "      <td>done</td>\n",
       "      <td>2019-03-19</td>\n",
       "      <td>2019-03-20 14:44:00</td>\n",
       "      <td>2019-03-27 10:21:00</td>\n",
       "      <td>5</td>\n",
       "    </tr>\n",
       "    <tr>\n",
       "      <th>2</th>\n",
       "      <td>SP</td>\n",
       "      <td>203</td>\n",
       "      <td>SP</td>\n",
       "      <td>1104</td>\n",
       "      <td>express</td>\n",
       "      <td>1</td>\n",
       "      <td>0</td>\n",
       "      <td>done</td>\n",
       "      <td>2019-02-18</td>\n",
       "      <td>2019-02-21 15:08:00</td>\n",
       "      <td>2019-02-28 18:19:00</td>\n",
       "      <td>5</td>\n",
       "    </tr>\n",
       "    <tr>\n",
       "      <th>3</th>\n",
       "      <td>SP</td>\n",
       "      <td>1390</td>\n",
       "      <td>SP</td>\n",
       "      <td>1850</td>\n",
       "      <td>express</td>\n",
       "      <td>1</td>\n",
       "      <td>0</td>\n",
       "      <td>done</td>\n",
       "      <td>2019-03-09</td>\n",
       "      <td>2019-03-11 15:48:00</td>\n",
       "      <td>2019-03-12 13:33:00</td>\n",
       "      <td>1</td>\n",
       "    </tr>\n",
       "    <tr>\n",
       "      <th>4</th>\n",
       "      <td>SP</td>\n",
       "      <td>436</td>\n",
       "      <td>RS</td>\n",
       "      <td>9681</td>\n",
       "      <td>express</td>\n",
       "      <td>1</td>\n",
       "      <td>0</td>\n",
       "      <td>done</td>\n",
       "      <td>2019-03-08</td>\n",
       "      <td>2019-03-12 08:19:00</td>\n",
       "      <td>2019-03-16 08:24:00</td>\n",
       "      <td>4</td>\n",
       "    </tr>\n",
       "  </tbody>\n",
       "</table>\n",
       "</div>"
      ],
      "text/plain": [
       "  sender_state  sender_zipcode receiver_state  receiver_zipcode shipment_type  \\\n",
       "0           SP             300             SP               540       express   \n",
       "1           SP            1705             MG              3775      standard   \n",
       "2           SP             203             SP              1104       express   \n",
       "3           SP            1390             SP              1850       express   \n",
       "4           SP             436             RS              9681       express   \n",
       "\n",
       "   quantity  service status date_created           date_sent  \\\n",
       "0         1        0   done   2019-03-04 2019-03-05 13:24:00   \n",
       "1         1        1   done   2019-03-19 2019-03-20 14:44:00   \n",
       "2         1        0   done   2019-02-18 2019-02-21 15:08:00   \n",
       "3         1        0   done   2019-03-09 2019-03-11 15:48:00   \n",
       "4         1        0   done   2019-03-08 2019-03-12 08:19:00   \n",
       "\n",
       "           date_visit  target  \n",
       "0 2019-03-07 18:01:00       2  \n",
       "1 2019-03-27 10:21:00       5  \n",
       "2 2019-02-28 18:19:00       5  \n",
       "3 2019-03-12 13:33:00       1  \n",
       "4 2019-03-16 08:24:00       4  "
      ]
     },
     "execution_count": 15,
     "metadata": {},
     "output_type": "execute_result"
    }
   ],
   "source": [
    "df1.head()"
   ]
  },
  {
   "cell_type": "markdown",
   "metadata": {
    "colab_type": "text",
    "id": "7Hs9yEdxKcKd"
   },
   "source": [
    "2- Normalizar los features para que queden en el rango (0, 1)"
   ]
  },
  {
   "cell_type": "code",
   "execution_count": 16,
   "metadata": {
    "colab": {},
    "colab_type": "code",
    "id": "HKqURQOtKcKe"
   },
   "outputs": [],
   "source": [
    "features = ['sender_zipcode', 'receiver_zipcode', 'service']\n",
    "target = 'target'"
   ]
  },
  {
   "cell_type": "code",
   "execution_count": 17,
   "metadata": {
    "colab": {},
    "colab_type": "code",
    "id": "7wM96TrGmrI4"
   },
   "outputs": [],
   "source": [
    "df1_x=df[features].copy()\n",
    "df1_y=df[target].copy()"
   ]
  },
  {
   "cell_type": "code",
   "execution_count": 18,
   "metadata": {
    "colab": {},
    "colab_type": "code",
    "id": "Y81AohhDKcKn"
   },
   "outputs": [
    {
     "name": "stderr",
     "output_type": "stream",
     "text": [
      "/home/isanti/anaconda3/lib/python3.7/site-packages/sklearn/preprocessing/data.py:323: DataConversionWarning: Data with input dtype int64 were all converted to float64 by MinMaxScaler.\n",
      "  return self.partial_fit(X, y)\n"
     ]
    }
   ],
   "source": [
    "scaler = MinMaxScaler()\n",
    "scaler.fit(df1_x)\n",
    "df1_xn=scaler.transform(df1_x)"
   ]
  },
  {
   "cell_type": "code",
   "execution_count": 19,
   "metadata": {
    "colab": {},
    "colab_type": "code",
    "id": "tNUEWZORpU_M"
   },
   "outputs": [],
   "source": [
    "scaler = MinMaxScaler()\n",
    "scaler.fit([df1_y])\n",
    "df1_yn=scaler.transform([df1_y])"
   ]
  },
  {
   "cell_type": "markdown",
   "metadata": {
    "colab_type": "text",
    "id": "9JsOIbOFKcK3"
   },
   "source": [
    "3- Proyectar los features utilizando PCA, manteniendo 3 componentes.\n",
    "#### NOTA IMPORTANTE: \n",
    "Estas transformaciones se deben aplicar sin modificar el dataframe con los datos originales, pueden usar copias para hacer las pruebas. Es decir que no deben hacer las transformaciones y guardarlas en un dataframe, tal como se hace en el ejemplo."
   ]
  },
  {
   "cell_type": "code",
   "execution_count": 20,
   "metadata": {
    "colab": {},
    "colab_type": "code",
    "id": "b4eE6vCFKcK5"
   },
   "outputs": [],
   "source": [
    "from sklearn.decomposition import PCA"
   ]
  },
  {
   "cell_type": "code",
   "execution_count": 21,
   "metadata": {
    "colab": {
     "base_uri": "https://localhost:8080/",
     "height": 52
    },
    "colab_type": "code",
    "id": "SZOccRJxKcK9",
    "outputId": "d4c4d263-5b66-49c9-a005-d5f420ca1023"
   },
   "outputs": [
    {
     "data": {
      "text/plain": [
       "PCA(copy=True, iterated_power='auto', n_components=3, random_state=None,\n",
       "  svd_solver='auto', tol=0.0, whiten=False)"
      ]
     },
     "execution_count": 21,
     "metadata": {},
     "output_type": "execute_result"
    }
   ],
   "source": [
    "pca = PCA(n_components=3)\n",
    "pca.fit(df1_xn)"
   ]
  },
  {
   "cell_type": "code",
   "execution_count": 22,
   "metadata": {
    "colab": {
     "base_uri": "https://localhost:8080/",
     "height": 34
    },
    "colab_type": "code",
    "id": "zAqAiQsPKcLB",
    "outputId": "ce5fe0b7-1eee-435f-9645-17428239f1f7"
   },
   "outputs": [
    {
     "data": {
      "text/plain": [
       "3"
      ]
     },
     "execution_count": 22,
     "metadata": {},
     "output_type": "execute_result"
    }
   ],
   "source": [
    "pca.n_components_ "
   ]
  },
  {
   "cell_type": "code",
   "execution_count": 23,
   "metadata": {
    "colab": {
     "base_uri": "https://localhost:8080/",
     "height": 139
    },
    "colab_type": "code",
    "id": "MtdrfImMKcLE",
    "outputId": "fc6107cd-8211-4de1-93a2-4e128e46da78"
   },
   "outputs": [
    {
     "data": {
      "text/plain": [
       "array([[-0.41161583, -0.03821374, -0.11852587],\n",
       "       [-0.05729793, -0.03615093, -0.02055959],\n",
       "       [-0.3625151 , -0.06853404, -0.1199857 ],\n",
       "       ...,\n",
       "       [-0.2835178 ,  0.30530984, -0.08923477],\n",
       "       [-0.35669799,  0.03232526,  0.2528347 ],\n",
       "       [-0.37762851,  0.09594395, -0.01618233]])"
      ]
     },
     "execution_count": 23,
     "metadata": {},
     "output_type": "execute_result"
    }
   ],
   "source": [
    "pca.transform(df1_xn)"
   ]
  },
  {
   "cell_type": "markdown",
   "metadata": {
    "colab_type": "text",
    "id": "-ZwAayPvKcLL"
   },
   "source": [
    "## Preparación del target:\n",
    "4- Limitar el target a 20, es decir asignar todo target mayor que 20 a 20."
   ]
  },
  {
   "cell_type": "code",
   "execution_count": 24,
   "metadata": {
    "colab": {},
    "colab_type": "code",
    "id": "NES2FH3DKcLM"
   },
   "outputs": [],
   "source": [
    "df1=df.copy()\n",
    "df1.loc[df1['target']>20, 'target'] = 20"
   ]
  },
  {
   "cell_type": "code",
   "execution_count": 25,
   "metadata": {
    "colab": {},
    "colab_type": "code",
    "id": "tRfe8M31zliL"
   },
   "outputs": [],
   "source": [
    "df1['sender_zipcode']=df1['sender_zipcode']/10\n",
    "df1['sender_zipcode'] =df1['sender_zipcode'].astype('int32')\n",
    "df1['receiver_zipcode']=df1['receiver_zipcode']/10\n",
    "df1['receiver_zipcode'] =df1['receiver_zipcode'].astype('int32')"
   ]
  },
  {
   "cell_type": "code",
   "execution_count": 26,
   "metadata": {
    "colab": {},
    "colab_type": "code",
    "id": "7tgpDeqEz3U4"
   },
   "outputs": [],
   "source": [
    "df1['date_created']= df1.date_created.astype('datetime64')\n",
    "df1['date_sent']= df1.date_sent.astype('datetime64')\n",
    "df1['date_visit']= df1.date_visit.astype('datetime64')"
   ]
  },
  {
   "cell_type": "code",
   "execution_count": 27,
   "metadata": {
    "colab": {
     "base_uri": "https://localhost:8080/",
     "height": 34
    },
    "colab_type": "code",
    "id": "jXIMdGFOztgT",
    "outputId": "ce2b14c0-ec3a-4c0f-bdeb-86e27724a091"
   },
   "outputs": [
    {
     "data": {
      "text/plain": [
       "(999827, 12)"
      ]
     },
     "execution_count": 27,
     "metadata": {},
     "output_type": "execute_result"
    }
   ],
   "source": [
    "df1 = df1[(df1['date_sent'] <= df1['date_visit']) & (df1['date_created'] <= df1['date_sent']) & (df1['date_created'] <= df1['date_visit'])]\n",
    "df1.shape"
   ]
  },
  {
   "cell_type": "code",
   "execution_count": 28,
   "metadata": {
    "colab": {
     "base_uri": "https://localhost:8080/",
     "height": 399
    },
    "colab_type": "code",
    "id": "pIzsVxlNKcLP",
    "outputId": "42b9bf45-7b2b-458d-c17d-ae4fd10de5d4"
   },
   "outputs": [
    {
     "data": {
      "text/plain": [
       "1     159537\n",
       "2     135145\n",
       "3     107500\n",
       "4      82250\n",
       "5      68790\n",
       "6      59190\n",
       "7      51902\n",
       "8      47937\n",
       "9      42376\n",
       "10     40461\n",
       "11     35821\n",
       "12     30215\n",
       "13     25068\n",
       "20     21338\n",
       "0      21053\n",
       "14     19853\n",
       "15     16241\n",
       "16     12133\n",
       "17      9623\n",
       "18      7339\n",
       "19      6055\n",
       "Name: target, dtype: int64"
      ]
     },
     "execution_count": 28,
     "metadata": {},
     "output_type": "execute_result"
    }
   ],
   "source": [
    "df1.target.value_counts()"
   ]
  },
  {
   "cell_type": "markdown",
   "metadata": {
    "colab_type": "text",
    "id": "ntUGV-zlKcLT"
   },
   "source": [
    "## Preparación del dataset:\n",
    "5- Particionar el dataset en train y test, teniendo los cuidados necesarios para no romper la temporalidad de los datos. El conjunto de training no puede tener menos del 50% de los datos."
   ]
  },
  {
   "cell_type": "code",
   "execution_count": 29,
   "metadata": {
    "colab": {
     "base_uri": "https://localhost:8080/",
     "height": 34
    },
    "colab_type": "code",
    "id": "tWmn4f2NmXIB",
    "outputId": "8b7be82e-25d2-4704-84ba-562deac6a8f5"
   },
   "outputs": [
    {
     "data": {
      "text/plain": [
       "((673474, 3), (673474,), (56694, 3), (56694,))"
      ]
     },
     "execution_count": 29,
     "metadata": {},
     "output_type": "execute_result"
    }
   ],
   "source": [
    "cut_off = '2019-03-20'\n",
    "df_train = df1.query(f'date_visit <= \"{cut_off}\"')\n",
    "df_test = df1.query(f'date_created > \"{cut_off}\"')\n",
    "\n",
    "X_train = df_train[features].values.astype(np.float)\n",
    "y_train = df_train[target].values\n",
    "\n",
    "X_test = df_test[features].values.astype(np.float)\n",
    "y_test = df_test[target].values\n",
    "\n",
    "X_train.shape, y_train.shape, X_test.shape, y_test.shape"
   ]
  },
  {
   "cell_type": "markdown",
   "metadata": {
    "colab_type": "text",
    "id": "fVDUTxWEKcLW"
   },
   "source": [
    "6- Si les parece necesario, pueden realizar algún tipo de filtrado o limpieza de los\n",
    "datos, explicando por qué les parece necesario.\n"
   ]
  },
  {
   "cell_type": "markdown",
   "metadata": {
    "colab_type": "text",
    "id": "aHKTKy5gKcLX"
   },
   "source": [
    "ya filtre los datos con fechas inconsistentes anteriormente"
   ]
  },
  {
   "cell_type": "markdown",
   "metadata": {
    "colab_type": "text",
    "id": "p_MotUDBKcLY"
   },
   "source": [
    "## Modelo basado en árboles de decisión (supervisado)\n",
    "7- Crear un pipeline con los pasos de “preparación de los features” agregando el clasificador XGBoostClassifier como estimador final. Entrenar este modelo, predecir el conjunto de test y calcular las métricas ontime, delay y early, sin ventana (se puede utilizar un array con ceros como en el ejemplo)."
   ]
  },
  {
   "cell_type": "code",
   "execution_count": 30,
   "metadata": {
    "colab": {},
    "colab_type": "code",
    "id": "75mah-L2KcLZ"
   },
   "outputs": [],
   "source": [
    "from xgboost import XGBClassifier"
   ]
  },
  {
   "cell_type": "code",
   "execution_count": 31,
   "metadata": {
    "colab": {},
    "colab_type": "code",
    "id": "jgajo0-mKcLc"
   },
   "outputs": [],
   "source": [
    "model = Pipeline([\n",
    "    ('normalizer', MinMaxScaler()),\n",
    "    ('PCA',PCA(n_components=3)),\n",
    "    ('classifier', XGBClassifier(disable_default_eval_metric=1,nthread=5)),\n",
    "])"
   ]
  },
  {
   "cell_type": "code",
   "execution_count": 34,
   "metadata": {
    "colab": {
     "base_uri": "https://localhost:8080/",
     "height": 382
    },
    "colab_type": "code",
    "id": "8HueFNyhKcLg",
    "outputId": "35ac42fd-f431-4d2d-f56e-67b6db5f922b"
   },
   "outputs": [
    {
     "name": "stdout",
     "output_type": "stream",
     "text": [
      "CPU times: user 37min 31s, sys: 13min 1s, total: 50min 32s\n",
      "Wall time: 13min 2s\n"
     ]
    },
    {
     "data": {
      "text/plain": [
       "Pipeline(memory=None,\n",
       "     steps=[('normalizer', MinMaxScaler(copy=True, feature_range=(0, 1))), ('PCA', PCA(copy=True, iterated_power='auto', n_components=3, random_state=None,\n",
       "  svd_solver='auto', tol=0.0, whiten=False)), ('classifier', XGBClassifier(base_score=0.5, booster='gbtree', colsample_bylevel=1,\n",
       "       colsample_by...lpha=0, reg_lambda=1, scale_pos_weight=1,\n",
       "       seed=None, silent=None, subsample=1, verbosity=1))])"
      ]
     },
     "execution_count": 34,
     "metadata": {},
     "output_type": "execute_result"
    }
   ],
   "source": [
    "%%time\n",
    "model.fit(X_train, y_train)"
   ]
  },
  {
   "cell_type": "code",
   "execution_count": 35,
   "metadata": {
    "colab": {},
    "colab_type": "code",
    "id": "O-5efIc6KcLk"
   },
   "outputs": [],
   "source": [
    "y_pred = model.predict(X_test)"
   ]
  },
  {
   "cell_type": "code",
   "execution_count": 36,
   "metadata": {
    "colab": {
     "base_uri": "https://localhost:8080/",
     "height": 34
    },
    "colab_type": "code",
    "id": "eDltbD5oKcLo",
    "outputId": "d824557f-5987-4394-8185-b81d45f7d27b"
   },
   "outputs": [
    {
     "data": {
      "text/plain": [
       "array([5, 7, 2, ..., 2, 1, 1])"
      ]
     },
     "execution_count": 36,
     "metadata": {},
     "output_type": "execute_result"
    }
   ],
   "source": [
    "y_pred"
   ]
  },
  {
   "cell_type": "code",
   "execution_count": 37,
   "metadata": {
    "colab": {
     "base_uri": "https://localhost:8080/",
     "height": 69
    },
    "colab_type": "code",
    "id": "h7b1GgSwKcLs",
    "outputId": "5686411c-a219-4e2a-e6b1-b9d1d0c0acff"
   },
   "outputs": [
    {
     "data": {
      "text/plain": [
       "{'ontimesv': 0.5394927152785127,\n",
       " 'delaysv': 0.22330405333897768,\n",
       " 'earlysv': 0.23720323138250962}"
      ]
     },
     "execution_count": 37,
     "metadata": {},
     "output_type": "execute_result"
    }
   ],
   "source": [
    "metrics = {\n",
    "    'ontimesv': ontimesv(y_test, y_pred),\n",
    "    'delaysv': delaysv(y_test, y_pred),\n",
    "    'earlysv': earlysv(y_test, y_pred),\n",
    "}\n",
    "\n",
    "metrics"
   ]
  },
  {
   "cell_type": "markdown",
   "metadata": {
    "colab_type": "text",
    "id": "a_iWDEESFxN0"
   },
   "source": [
    "El 22 por ciento llego con retaso, el 24 por cierto antes y el 54 por ciento en tiempo. Mas del 75 por ciento llego en tiempo o antes de lo predicho."
   ]
  },
  {
   "cell_type": "markdown",
   "metadata": {
    "colab_type": "text",
    "id": "IA3s4BKVKcL5"
   },
   "source": [
    "8- Explicar muy brevemente como funcionan esta clase de modelos."
   ]
  },
  {
   "cell_type": "markdown",
   "metadata": {
    "colab_type": "text",
    "id": "kjmLspnNSBQe"
   },
   "source": [
    "XGBoostClassifier se trata de arboles de decision con gradient boosting (que es una técnica para regresión y clasificación dónde se minimizan los errores por gradient descendent y que produce un modelo tipo árbol de decisión). Es gradient boosting mejorado ya que es una optimización. \n",
    " \n"
   ]
  },
  {
   "cell_type": "markdown",
   "metadata": {
    "colab_type": "text",
    "id": "U87x-EMoKcL7"
   },
   "source": [
    "## Modelo basado en vecinos cercanos (no supervisado / semi supervisado)\n",
    "9- Crear un pipeline con los pasos de “preparación de los features” agregando el clasificador KNeighborsClassifier como estimador final. Entrenar este modelo, predecir el conjunto de test y calcular las métricas ontime, delay y early, sin ventana."
   ]
  },
  {
   "cell_type": "code",
   "execution_count": 38,
   "metadata": {
    "colab": {},
    "colab_type": "code",
    "id": "ffrNV1EjKcL8"
   },
   "outputs": [],
   "source": [
    "from sklearn.neighbors import KNeighborsClassifier"
   ]
  },
  {
   "cell_type": "code",
   "execution_count": 39,
   "metadata": {
    "colab": {},
    "colab_type": "code",
    "id": "OXi0RdZHKcL-"
   },
   "outputs": [],
   "source": [
    "model = Pipeline([\n",
    "    ('normalizer', MinMaxScaler()),\n",
    "    ('PCA',PCA(n_components=3)),\n",
    "    ('classifier',  KNeighborsClassifier(n_neighbors=14)),\n",
    "])"
   ]
  },
  {
   "cell_type": "code",
   "execution_count": 40,
   "metadata": {
    "colab": {
     "base_uri": "https://localhost:8080/",
     "height": 260
    },
    "colab_type": "code",
    "id": "VhSTt-D0KcMC",
    "outputId": "4d6d4e50-701f-4b7a-ada1-9f625e0a13f7"
   },
   "outputs": [
    {
     "name": "stdout",
     "output_type": "stream",
     "text": [
      "CPU times: user 2.73 s, sys: 600 ms, total: 3.33 s\n",
      "Wall time: 4.15 s\n"
     ]
    },
    {
     "data": {
      "text/plain": [
       "Pipeline(memory=None,\n",
       "     steps=[('normalizer', MinMaxScaler(copy=True, feature_range=(0, 1))), ('PCA', PCA(copy=True, iterated_power='auto', n_components=3, random_state=None,\n",
       "  svd_solver='auto', tol=0.0, whiten=False)), ('classifier', KNeighborsClassifier(algorithm='auto', leaf_size=30, metric='minkowski',\n",
       "           metric_params=None, n_jobs=None, n_neighbors=14, p=2,\n",
       "           weights='uniform'))])"
      ]
     },
     "execution_count": 40,
     "metadata": {},
     "output_type": "execute_result"
    }
   ],
   "source": [
    "%%time\n",
    "model.fit(X_train, y_train)"
   ]
  },
  {
   "cell_type": "code",
   "execution_count": 41,
   "metadata": {
    "colab": {},
    "colab_type": "code",
    "id": "m4dbQaQzKcMK"
   },
   "outputs": [],
   "source": [
    "y_pred = model.predict(X_test)"
   ]
  },
  {
   "cell_type": "code",
   "execution_count": 42,
   "metadata": {
    "colab": {
     "base_uri": "https://localhost:8080/",
     "height": 34
    },
    "colab_type": "code",
    "id": "B0WL6XRXKcMP",
    "outputId": "4940f1dc-407b-4c47-c7ca-39817b61610e"
   },
   "outputs": [
    {
     "data": {
      "text/plain": [
       "array([ 5, 15,  1, ...,  1,  1,  2])"
      ]
     },
     "execution_count": 42,
     "metadata": {},
     "output_type": "execute_result"
    }
   ],
   "source": [
    "y_pred"
   ]
  },
  {
   "cell_type": "code",
   "execution_count": 43,
   "metadata": {
    "colab": {
     "base_uri": "https://localhost:8080/",
     "height": 69
    },
    "colab_type": "code",
    "id": "vUr-lYsPKcMR",
    "outputId": "c1187f2b-20ae-4056-a982-1299042cd4e8"
   },
   "outputs": [
    {
     "data": {
      "text/plain": [
       "{'ontimesv': 0.5231065015698311,\n",
       " 'delaysv': 0.21339118778001198,\n",
       " 'earlysv': 0.263502310650157}"
      ]
     },
     "execution_count": 43,
     "metadata": {},
     "output_type": "execute_result"
    }
   ],
   "source": [
    "metrics = {\n",
    "    'ontimesv': ontimesv(y_test, y_pred),\n",
    "    'delaysv': delaysv(y_test, y_pred),\n",
    "    'earlysv': earlysv(y_test, y_pred),\n",
    "}\n",
    "\n",
    "metrics"
   ]
  },
  {
   "cell_type": "markdown",
   "metadata": {
    "colab_type": "text",
    "id": "OctRx__E8l1K"
   },
   "source": [
    "El 21 por ciento de las predicciones llego mas tarde de lo que se predijo, el 26 por ciento de las predicciones llegaron mas temprano de lo predicho mientras que el 52 por ciento llego en el tiempo predicho. Podriamos decir que el modelo anda muy bien porque mas del 75 por ciento llego antes o en el tiempo predicho."
   ]
  },
  {
   "cell_type": "markdown",
   "metadata": {
    "colab_type": "text",
    "id": "dLhY2AGPKcMb"
   },
   "source": [
    "10- Explicar muy brevemente como funcionan esta clase de modelos."
   ]
  },
  {
   "cell_type": "markdown",
   "metadata": {
    "colab_type": "text",
    "id": "PELiqH4KSteT"
   },
   "source": [
    "KNN se trata de un algoritmo de clasificacion de aprendizaje supervisado que toma puntos etiquetados y los usa para aprender como etiquetar otros puntos. Clasifica casos basados en su similitud con otros casos usando que casos similares con las mismas etiquetas de clase estan cerca una de otras(Los datos que estan cerca son llamados \"vecinos\") por lo tanto la distancia es una medida de similitud.  "
   ]
  },
  {
   "cell_type": "markdown",
   "metadata": {
    "colab_type": "text",
    "id": "ODQYpOjMKcMd"
   },
   "source": [
    "Modelo basado en regresión:\n",
    "11- Crear un pipeline con los pasos de “preparación de los features” agregando un regresor a elección de ustedes como estimador final. Este regresor puede ser tanto supervisado como no supervisado."
   ]
  },
  {
   "cell_type": "code",
   "execution_count": 44,
   "metadata": {
    "colab": {},
    "colab_type": "code",
    "id": "wARFVyZVKcMe"
   },
   "outputs": [],
   "source": [
    "from sklearn.linear_model import LogisticRegression"
   ]
  },
  {
   "cell_type": "code",
   "execution_count": 45,
   "metadata": {
    "colab": {},
    "colab_type": "code",
    "id": "Lh8pdjmCKcMh"
   },
   "outputs": [],
   "source": [
    "model = Pipeline([\n",
    "    ('normalizer', MinMaxScaler()),\n",
    "    ('PCA',PCA(n_components=3)),\n",
    "    ('classifier', LogisticRegression(solver ='sag')),\n",
    "])"
   ]
  },
  {
   "cell_type": "markdown",
   "metadata": {
    "colab_type": "text",
    "id": "-Kgl1MD0KcMo"
   },
   "source": [
    "12- Entrenar este modelo, predecir el conjunto de test y redondear las predicciones de forma inteligente. Explicar el criterio de redondeo."
   ]
  },
  {
   "cell_type": "code",
   "execution_count": 46,
   "metadata": {
    "colab": {
     "base_uri": "https://localhost:8080/",
     "height": 347
    },
    "colab_type": "code",
    "id": "xBwLhTy3KcMp",
    "outputId": "5d988f91-6096-453f-cef7-3b6bae6bf7b6"
   },
   "outputs": [
    {
     "name": "stderr",
     "output_type": "stream",
     "text": [
      "/home/isanti/anaconda3/lib/python3.7/site-packages/sklearn/linear_model/logistic.py:460: FutureWarning: Default multi_class will be changed to 'auto' in 0.22. Specify the multi_class option to silence this warning.\n",
      "  \"this warning.\", FutureWarning)\n"
     ]
    },
    {
     "name": "stdout",
     "output_type": "stream",
     "text": [
      "CPU times: user 3min 36s, sys: 2.79 s, total: 3min 39s\n",
      "Wall time: 3min 35s\n"
     ]
    },
    {
     "data": {
      "text/plain": [
       "Pipeline(memory=None,\n",
       "     steps=[('normalizer', MinMaxScaler(copy=True, feature_range=(0, 1))), ('PCA', PCA(copy=True, iterated_power='auto', n_components=3, random_state=None,\n",
       "  svd_solver='auto', tol=0.0, whiten=False)), ('classifier', LogisticRegression(C=1.0, class_weight=None, dual=False, fit_intercept=True,\n",
       "          intercept_scaling=1, max_iter=100, multi_class='warn',\n",
       "          n_jobs=None, penalty='l2', random_state=None, solver='sag',\n",
       "          tol=0.0001, verbose=0, warm_start=False))])"
      ]
     },
     "execution_count": 46,
     "metadata": {},
     "output_type": "execute_result"
    }
   ],
   "source": [
    "%%time\n",
    "model.fit(X_train, y_train)"
   ]
  },
  {
   "cell_type": "code",
   "execution_count": 47,
   "metadata": {
    "colab": {},
    "colab_type": "code",
    "id": "6wJFHE9PKcMs"
   },
   "outputs": [],
   "source": [
    "y_pred = model.predict(X_test)"
   ]
  },
  {
   "cell_type": "code",
   "execution_count": 48,
   "metadata": {
    "colab": {
     "base_uri": "https://localhost:8080/",
     "height": 34
    },
    "colab_type": "code",
    "id": "l6q69_PgKcMv",
    "outputId": "78171f01-3d9c-4421-ed15-0f74edd931db"
   },
   "outputs": [
    {
     "data": {
      "text/plain": [
       "array([ 2,  5,  1, ..., 18, 10,  6])"
      ]
     },
     "execution_count": 48,
     "metadata": {},
     "output_type": "execute_result"
    }
   ],
   "source": [
    "y_train"
   ]
  },
  {
   "cell_type": "markdown",
   "metadata": {
    "colab_type": "text",
    "id": "9Yxvr7EwKcMy"
   },
   "source": [
    "No redondeo porque me dan valores enteros"
   ]
  },
  {
   "cell_type": "markdown",
   "metadata": {
    "colab_type": "text",
    "id": "om-tyJKjKcMy"
   },
   "source": [
    "13- Calcular las métricas ontime , delay y early, sin ventana."
   ]
  },
  {
   "cell_type": "code",
   "execution_count": 49,
   "metadata": {
    "colab": {
     "base_uri": "https://localhost:8080/",
     "height": 69
    },
    "colab_type": "code",
    "id": "j5xqe47aKcMz",
    "outputId": "0b943f59-e899-4da2-8ade-6155e744b5a2"
   },
   "outputs": [
    {
     "data": {
      "text/plain": [
       "{'ontimesv': 0.4793805340953187,\n",
       " 'delaysv': 0.37123857903834623,\n",
       " 'earlysv': 0.14938088686633505}"
      ]
     },
     "execution_count": 49,
     "metadata": {},
     "output_type": "execute_result"
    }
   ],
   "source": [
    "metrics = {\n",
    "    'ontimesv': ontimesv(y_test, y_pred),\n",
    "    'delaysv': delaysv(y_test, y_pred),\n",
    "    'earlysv': earlysv(y_test, y_pred),\n",
    "}\n",
    "\n",
    "metrics"
   ]
  },
  {
   "cell_type": "markdown",
   "metadata": {
    "colab_type": "text",
    "id": "Eu0aISO_FbpD"
   },
   "source": [
    "El 37 por ciento llego despues de la prediccion, el 15 por ciento antes y el 48 por ciento llego a tiempo. Un 63 por ciento llego antes o en el tiempo predicho. podemos decir que el modelo es bueno pero los dos anteriores dieron mejores metricas."
   ]
  },
  {
   "cell_type": "markdown",
   "metadata": {
    "colab_type": "text",
    "id": "zA8mTyfbKcM2"
   },
   "source": [
    "14- Justificar muy brevemente la elección del modelo."
   ]
  },
  {
   "cell_type": "markdown",
   "metadata": {
    "colab_type": "text",
    "id": "cjb_kadLGg9_"
   },
   "source": [
    "Elegi Logistic Regression porque es facil de entender como funciona y nos da informacion de la probabilidad que tiene cada etiqueta en cada prediccion que se hizo lo que puede ser util para elegir el offset. Ademas me da informacion de que tan segura es posible estar de la prediccion hecha."
   ]
  },
  {
   "cell_type": "markdown",
   "metadata": {
    "colab_type": "text",
    "id": "5O_lLsNxKcM6"
   },
   "source": [
    "Ventanas de predicción:\n",
    "15- Construir un offset para mejorar las predicciones de nuestros modelos, de forma que tenga avg_offset menor o igual a 1, recalcular las métricas y explicar cómo se lo construyó."
   ]
  },
  {
   "cell_type": "code",
   "execution_count": 50,
   "metadata": {
    "colab": {},
    "colab_type": "code",
    "id": "RpL5tjNNKcM6"
   },
   "outputs": [],
   "source": [
    "def ontime(y_test, lower_bound, upper_bound):\n",
    "    ontime_msk = (lower_bound <= y_test) & (y_test <= upper_bound)\n",
    "    return np.sum(ontime_msk) / np.size(y_test)\n",
    "\n",
    "def delay(y_test, lower_bound, upper_bound):\n",
    "    delay_msk = (upper_bound < y_test)\n",
    "    return np.sum(delay_msk) / np.size(y_test)\n",
    "\n",
    "def early(y_test, lower_bound, upper_bound):\n",
    "    early_msk = (y_test < lower_bound)\n",
    "    return np.sum(early_msk) / np.size(y_test)\n",
    "\n",
    "def offset_window(y_test, lower_bound, upper_bound, length):\n",
    "    offset_msk = ((upper_bound - lower_bound) == length)\n",
    "    return np.sum(offset_msk) / np.size(offset_msk)\n",
    "\n",
    "def avg_speed(y_test, lower_bound, upper_bound):\n",
    "    return lower_bound.mean()\n",
    "\n",
    "def avg_offset(y_test, lower_bound, upper_bound):\n",
    "    return (upper_bound - lower_bound).mean()\n",
    "\n",
    "def get_metrics(y_test, speed, offset):\n",
    "    lower_bound = speed\n",
    "    upper_bound = speed + offset\n",
    "    metrics = {'on_time': ontime(y_test, lower_bound, upper_bound).astype(float).round(3),\n",
    "               'delay': delay(y_test, lower_bound, upper_bound).astype(float).round(3),\n",
    "               'early': early(y_test, lower_bound, upper_bound).astype(float).round(3),\n",
    "               'offset_0': offset_window(y_test, lower_bound, upper_bound, 0).astype(float).round(3),\n",
    "               'offset_1': offset_window(y_test, lower_bound, upper_bound, 1).astype(float).round(3),\n",
    "               'offset_2': offset_window(y_test, lower_bound, upper_bound, 2).astype(float).round(3),\n",
    "               'avg_speed': avg_speed(y_test, lower_bound, upper_bound).astype(float).round(3),\n",
    "               'avg_offset': avg_offset(y_test, lower_bound, upper_bound).astype(float).round(3),\n",
    "               }\n",
    "\n",
    "    return metrics"
   ]
  },
  {
   "cell_type": "code",
   "execution_count": 51,
   "metadata": {
    "colab": {
     "base_uri": "https://localhost:8080/",
     "height": 156
    },
    "colab_type": "code",
    "id": "Gocqzd5fKcM8",
    "outputId": "ce3def65-ae3e-4805-f2cf-408964801afe"
   },
   "outputs": [
    {
     "data": {
      "text/plain": [
       "{'on_time': 0.671,\n",
       " 'delay': 0.18,\n",
       " 'early': 0.149,\n",
       " 'offset_0': 0.221,\n",
       " 'offset_1': 0.702,\n",
       " 'offset_2': 0.077,\n",
       " 'avg_speed': 1.531,\n",
       " 'avg_offset': 0.857}"
      ]
     },
     "execution_count": 51,
     "metadata": {},
     "output_type": "execute_result"
    }
   ],
   "source": [
    "pred_prob = model.predict_proba(X_test)\n",
    "offset = np.zeros_like(y_pred)\n",
    "\n",
    "for i in range(len(y_pred)):\n",
    "    if (pred_prob[i].max() < 0.01):\n",
    "      offset[i]=3\n",
    "    elif (pred_prob[i].max()>=0.01) & (pred_prob[i].max()<0.1):\n",
    "      offset[i]=2\n",
    "    elif (pred_prob[i].max()>=0.1) & (pred_prob[i].max()<0.30):\n",
    "      offset[i]=1\n",
    "get_metrics(y_test, y_pred, offset)"
   ]
  },
  {
   "cell_type": "markdown",
   "metadata": {
    "colab_type": "text",
    "id": "MgkW7tRxIkQ8"
   },
   "source": [
    "Viendo las probabilidades de cada etiqueta tomo el maximo valor y si es menor al 1 por ciento le asigno un offset de 3, si esta entre 1 y 10 por ciento le asigno un offset de 2 y si esta entre 10 por ciento y 30 por ciento le asigno un offset de 1 y finalmente, le asigno un cero de offset al resto."
   ]
  },
  {
   "cell_type": "markdown",
   "metadata": {
    "colab_type": "text",
    "id": "SXdP9wmYKcNL"
   },
   "source": [
    "16- Construir un offset que mejore las métricas de los modelo y que además tenga un avg_offset menor o igual que 2.5, recalcular las métricas y explicar cómo se lo construyó."
   ]
  },
  {
   "cell_type": "code",
   "execution_count": 52,
   "metadata": {
    "colab": {
     "base_uri": "https://localhost:8080/",
     "height": 156
    },
    "colab_type": "code",
    "id": "LS3t3ef3xhwQ",
    "outputId": "2d660f6e-e066-4a18-9625-7eff4a0ec824"
   },
   "outputs": [
    {
     "data": {
      "text/plain": [
       "{'on_time': 0.811,\n",
       " 'delay': 0.04,\n",
       " 'early': 0.149,\n",
       " 'offset_0': 0.003,\n",
       " 'offset_1': 0.218,\n",
       " 'offset_2': 0.484,\n",
       " 'avg_speed': 1.531,\n",
       " 'avg_offset': 2.072}"
      ]
     },
     "execution_count": 52,
     "metadata": {},
     "output_type": "execute_result"
    }
   ],
   "source": [
    "pred_prob = model.predict_proba(X_test)\n",
    "offset = np.zeros_like(y_pred)\n",
    "\n",
    "for i in range(len(y_pred)):\n",
    "    if (pred_prob[i].max() < 0.2):\n",
    "      offset[i]=3\n",
    "    elif (pred_prob[i].max()>=0.2) & (pred_prob[i].max()<0.3):\n",
    "      offset[i]=2\n",
    "    elif (pred_prob[i].max()>=0.3) & (pred_prob[i].max()<0.40):\n",
    "      offset[i]=1\n",
    "get_metrics(y_test, y_pred, offset)"
   ]
  },
  {
   "cell_type": "markdown",
   "metadata": {
    "colab_type": "text",
    "id": "pmYDdxUaJMo5"
   },
   "source": [
    "Viendo las probabilidades de cada etiqueta tomo el maximo valor y si es menor al 20 por ciento le asigno un offset de 3, si esta entre 20 y 30 por ciento le asigno un offset de 2 y si esta entre 30 por ciento y 40 por ciento le asigno un offset de 1 y finalmente, le asigno un cero de offset al resto."
   ]
  },
  {
   "cell_type": "code",
   "execution_count": null,
   "metadata": {
    "colab": {},
    "colab_type": "code",
    "id": "gU3SJEKMxg4Z"
   },
   "outputs": [],
   "source": []
  },
  {
   "cell_type": "code",
   "execution_count": null,
   "metadata": {
    "colab": {},
    "colab_type": "code",
    "id": "Vq47yUYgs4Os"
   },
   "outputs": [],
   "source": []
  }
 ],
 "metadata": {
  "colab": {
   "collapsed_sections": [
    "aHKTKy5gKcLX"
   ],
   "name": "Practico 4-5.ipynb",
   "provenance": []
  },
  "kernelspec": {
   "display_name": "Python 3",
   "language": "python",
   "name": "python3"
  },
  "language_info": {
   "codemirror_mode": {
    "name": "ipython",
    "version": 3
   },
   "file_extension": ".py",
   "mimetype": "text/x-python",
   "name": "python",
   "nbconvert_exporter": "python",
   "pygments_lexer": "ipython3",
   "version": "3.7.1"
  }
 },
 "nbformat": 4,
 "nbformat_minor": 1
}
